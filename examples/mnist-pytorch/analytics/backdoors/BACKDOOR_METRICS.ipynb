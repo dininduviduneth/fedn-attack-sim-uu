{
 "cells": [
  {
   "cell_type": "code",
   "execution_count": 20,
   "id": "d2879f9a-226b-4867-9978-1c11de216052",
   "metadata": {},
   "outputs": [],
   "source": [
    "# HELPER FUNCTIONS\n",
    "\n",
    "import collections\n",
    "\n",
    "def get_mean_metrics(models, metric_type):\n",
    "    mean_acc_fedavg = []\n",
    "    for model in models[\"result\"]:\n",
    "        model_id = model[\"model\"]\n",
    "        validations = client.list_validations(modelId=model_id)\n",
    "\n",
    "        acc = []\n",
    "        for _, validation in validations.items(): \n",
    "            metrics = json.loads(validation['data'])\n",
    "            if metric_type in metrics:\n",
    "                acc.append(metrics[metric_type])\n",
    "\n",
    "        if acc:\n",
    "            mean_acc_fedavg.append(np.mean(acc))\n",
    "\n",
    "    return np.min(mean_acc_fedavg) if 'loss' in metric_type else np.max(mean_acc_fedavg)\n",
    "\n",
    "def get_baseline_metrics(baseline_session_id):\n",
    "    models = client.list_models(baseline_session_id)\n",
    "\n",
    "    baseline_metrics = {\n",
    "        'training_loss': get_mean_metrics(models, 'training_loss'),\n",
    "        'training_accuracy': get_mean_metrics(models, 'training_accuracy'),\n",
    "        'test_loss': get_mean_metrics(models, 'test_loss'),\n",
    "        'test_accuracy': get_mean_metrics(models, 'test_accuracy')\n",
    "    }\n",
    "\n",
    "    return baseline_metrics"
   ]
  },
  {
   "cell_type": "code",
   "execution_count": 21,
   "id": "076683a6-4372-4f8c-b480-2be3fc3be7db",
   "metadata": {},
   "outputs": [],
   "source": [
    "from fedn import APIClient\n",
    "import time\n",
    "import uuid\n",
    "import json\n",
    "import matplotlib.pyplot as plt\n",
    "import numpy as np\n",
    "import collections\n",
    "\n",
    "import sys\n",
    "sys.path.append('/home/ubuntu/fedn-attack-sim-uu/examples/mnist-pytorch')\n",
    "\n",
    "from combiner_config import COMBINER_IP\n",
    "\n",
    "DISCOVER_HOST = COMBINER_IP\n",
    "DISCOVER_PORT = 8092\n",
    "client = APIClient(DISCOVER_HOST, DISCOVER_PORT)"
   ]
  },
  {
   "cell_type": "code",
   "execution_count": 22,
   "id": "25a7bf12-b2ad-4d76-9c46-257c9bc65849",
   "metadata": {},
   "outputs": [
    {
     "data": {
      "text/plain": [
       "['BACKDOOR_TEST_04',\n",
       " 'BACKDOOR_TEST_03',\n",
       " 'BACKDOOR_TEST_02',\n",
       " 'BACKDOOR_TEST_01',\n",
       " 'MNIST_GBP100_25R_16_04',\n",
       " 'MNIST_GBP100_25R_18_02',\n",
       " 'MNIST_GBP100_25R_19_01',\n",
       " 'MNIST_GBP010_25R_16_04',\n",
       " 'MNIST_GBP010_25R_18_02',\n",
       " 'MNIST_GBP010_25R_19_01',\n",
       " 'MNIST_LFB_25R_16_04_V2',\n",
       " 'MNIST_LFB_25R_18_02_V2',\n",
       " 'MNIST_LFB_25R_19_01_V2',\n",
       " 'TEST_5_WITH_EPOCH_01',\n",
       " 'TEST_EPOCH_04',\n",
       " 'TEST_EPOCH_03',\n",
       " 'TEST_EPOCH_02',\n",
       " 'TEST_EPOCH_01',\n",
       " 'MNIST_GBM001_25R_18_02',\n",
       " 'MNIST_GBM001_25R_19_01',\n",
       " 'MNIST_BASE_25R_20_00']"
      ]
     },
     "execution_count": 22,
     "metadata": {},
     "output_type": "execute_result"
    }
   ],
   "source": [
    "[session['session_id'] for session in client.list_sessions()['result']]"
   ]
  },
  {
   "cell_type": "code",
   "execution_count": 23,
   "id": "f054b1d4-b213-4059-a90e-f79e4d35178e",
   "metadata": {},
   "outputs": [
    {
     "name": "stdin",
     "output_type": "stream",
     "text": [
      "Provide a session_id:  BACKDOOR_TEST_04\n"
     ]
    }
   ],
   "source": [
    "session_id = input(\"Provide a session_id: \")"
   ]
  },
  {
   "cell_type": "code",
   "execution_count": 24,
   "id": "8292e3ab-983f-4799-8a7a-46036cc6bdb7",
   "metadata": {},
   "outputs": [
    {
     "name": "stdin",
     "output_type": "stream",
     "text": [
      "Provide baseline session_id:  MNIST_BASE_25R_20_00\n"
     ]
    }
   ],
   "source": [
    "baseline_metrics = get_baseline_metrics(input(\"Provide baseline session_id: \"))"
   ]
  },
  {
   "cell_type": "code",
   "execution_count": 25,
   "id": "a79ec1e8-9987-43e0-8517-969b38fbf817",
   "metadata": {},
   "outputs": [],
   "source": [
    "models = client.list_models(session_id)\n",
    "\n",
    "num_rounds = models['count']\n",
    "# num_rounds\n",
    "\n",
    "# Provides a model trail for a given session (in FILO) --> need to be reversed\n",
    "model_trail = models['result']\n",
    "model_trail.reverse()\n",
    "# model_trail"
   ]
  },
  {
   "cell_type": "code",
   "execution_count": 38,
   "id": "67a915c0-8af3-4def-b666-0cff69614f9c",
   "metadata": {},
   "outputs": [
    {
     "data": {
      "text/plain": [
       "{'663757fd981afd046cebee22': {'data': '{\"training_loss\": 0.611663281917572, \"training_accuracy\": 0.8330000042915344, \"test_loss\": 0.31753280758857727, \"test_accuracy\": 0.949999988079071, \"train_target_misclassification\": 0.21967213114754103, \"test_target_misclassification\": 0.08333333333333337, \"train_target_prediction_dist\": [1, 12, 8, 17, 3, 6, 4, 6, 238, 10], \"test_target_prediction_dist\": [1, 1, 0, 0, 0, 1, 1, 0, 44, 0]}',\n",
       "  'meta': '',\n",
       "  'model_id': 'a727e6f5-6c3e-4b53-a6e4-5eacb3fc880b',\n",
       "  'receiver': {'name': 'combiner', 'role': 'COMBINER'},\n",
       "  'sender': {'name': 'malicious_client2', 'role': 'WORKER'},\n",
       "  'timestamp': '2024-05-05T09:57:17.572398Z'},\n",
       " '663757fd981afd046cebee23': {'data': '{\"training_loss\": 0.5198166370391846, \"training_accuracy\": 0.8823333382606506, \"test_loss\": 0.6905912160873413, \"test_accuracy\": 0.8220000267028809, \"train_target_misclassification\": 0.1582491582491582, \"test_target_misclassification\": 0.20833333333333337, \"train_target_prediction_dist\": [7, 10, 1, 9, 1, 6, 2, 4, 250, 7], \"test_target_prediction_dist\": [0, 2, 1, 3, 1, 1, 0, 0, 38, 2]}',\n",
       "  'meta': '',\n",
       "  'model_id': 'a727e6f5-6c3e-4b53-a6e4-5eacb3fc880b',\n",
       "  'receiver': {'name': 'combiner', 'role': 'COMBINER'},\n",
       "  'sender': {'name': 'malicious_client4', 'role': 'WORKER'},\n",
       "  'timestamp': '2024-05-05T09:57:17.578362Z'},\n",
       " '663757fd981afd046cebee24': {'data': '{\"training_loss\": 0.5896880030632019, \"training_accuracy\": 0.843666672706604, \"test_loss\": 0.601985514163971, \"test_accuracy\": 0.8420000076293945, \"train_target_misclassification\": 0.23024054982817865, \"test_target_misclassification\": 0.28888888888888886, \"train_target_prediction_dist\": [1, 10, 10, 15, 2, 9, 3, 6, 224, 11], \"test_target_prediction_dist\": [0, 0, 0, 7, 0, 2, 0, 4, 32, 0]}',\n",
       "  'meta': '',\n",
       "  'model_id': 'a727e6f5-6c3e-4b53-a6e4-5eacb3fc880b',\n",
       "  'receiver': {'name': 'combiner', 'role': 'COMBINER'},\n",
       "  'sender': {'name': 'benign_client7', 'role': 'WORKER'},\n",
       "  'timestamp': '2024-05-05T09:57:17.580257Z'},\n",
       " '663757fd981afd046cebee25': {'data': '{\"training_loss\": 0.5778740644454956, \"training_accuracy\": 0.8450000286102295, \"test_loss\": 0.7620219588279724, \"test_accuracy\": 0.8019999861717224, \"train_target_misclassification\": 0.22304832713754652, \"test_target_misclassification\": 0.24528301886792447, \"train_target_prediction_dist\": [2, 12, 6, 12, 1, 11, 6, 2, 209, 8], \"test_target_prediction_dist\": [1, 2, 1, 4, 0, 4, 0, 1, 40, 0]}',\n",
       "  'meta': '',\n",
       "  'model_id': 'a727e6f5-6c3e-4b53-a6e4-5eacb3fc880b',\n",
       "  'receiver': {'name': 'combiner', 'role': 'COMBINER'},\n",
       "  'sender': {'name': 'benign_client8', 'role': 'WORKER'},\n",
       "  'timestamp': '2024-05-05T09:57:17.580449Z'},\n",
       " '663757fd981afd046cebee26': {'data': '{\"training_loss\": 0.6034305691719055, \"training_accuracy\": 0.8346666693687439, \"test_loss\": 0.6308853626251221, \"test_accuracy\": 0.8320000171661377, \"train_target_misclassification\": 0.210727969348659, \"test_target_misclassification\": 0.32499999999999996, \"train_target_prediction_dist\": [1, 10, 7, 15, 1, 10, 4, 0, 206, 7], \"test_target_prediction_dist\": [1, 1, 1, 2, 1, 3, 0, 2, 27, 2]}',\n",
       "  'meta': '',\n",
       "  'model_id': 'a727e6f5-6c3e-4b53-a6e4-5eacb3fc880b',\n",
       "  'receiver': {'name': 'combiner', 'role': 'COMBINER'},\n",
       "  'sender': {'name': 'benign_client1', 'role': 'WORKER'},\n",
       "  'timestamp': '2024-05-05T09:57:17.581219Z'},\n",
       " '663757fd981afd046cebee27': {'data': '{\"training_loss\": 0.6852279305458069, \"training_accuracy\": 0.8213333487510681, \"test_loss\": 0.4108198881149292, \"test_accuracy\": 0.8960000276565552, \"train_target_misclassification\": 0.2833333333333333, \"test_target_misclassification\": 0.26, \"train_target_prediction_dist\": [0, 18, 8, 22, 6, 13, 6, 2, 215, 10], \"test_target_prediction_dist\": [0, 1, 0, 1, 1, 2, 1, 2, 37, 5]}',\n",
       "  'meta': '',\n",
       "  'model_id': 'a727e6f5-6c3e-4b53-a6e4-5eacb3fc880b',\n",
       "  'receiver': {'name': 'combiner', 'role': 'COMBINER'},\n",
       "  'sender': {'name': 'benign_client11', 'role': 'WORKER'},\n",
       "  'timestamp': '2024-05-05T09:57:17.586932Z'},\n",
       " '663757fd981afd046cebee28': {'data': '{\"training_loss\": 0.6585612297058105, \"training_accuracy\": 0.8223333358764648, \"test_loss\": 0.7524821758270264, \"test_accuracy\": 0.7760000228881836, \"train_target_misclassification\": 0.25901639344262295, \"test_target_misclassification\": 0.42000000000000004, \"train_target_prediction_dist\": [1, 11, 4, 29, 3, 12, 1, 5, 226, 13], \"test_target_prediction_dist\": [2, 4, 0, 7, 1, 1, 0, 4, 29, 2]}',\n",
       "  'meta': '',\n",
       "  'model_id': 'a727e6f5-6c3e-4b53-a6e4-5eacb3fc880b',\n",
       "  'receiver': {'name': 'combiner', 'role': 'COMBINER'},\n",
       "  'sender': {'name': 'benign_client5', 'role': 'WORKER'},\n",
       "  'timestamp': '2024-05-05T09:57:17.598982Z'},\n",
       " '663757fd981afd046cebee2c': {'data': '{\"training_loss\": 0.6280015110969543, \"training_accuracy\": 0.8373333215713501, \"test_loss\": 0.7451615929603577, \"test_accuracy\": 0.800000011920929, \"train_target_misclassification\": 0.2542372881355932, \"test_target_misclassification\": 0.37254901960784315, \"train_target_prediction_dist\": [5, 13, 8, 16, 2, 12, 9, 1, 220, 9], \"test_target_prediction_dist\": [2, 2, 2, 3, 3, 2, 1, 0, 32, 4]}',\n",
       "  'meta': '',\n",
       "  'model_id': 'a727e6f5-6c3e-4b53-a6e4-5eacb3fc880b',\n",
       "  'receiver': {'name': 'combiner', 'role': 'COMBINER'},\n",
       "  'sender': {'name': 'benign_client3', 'role': 'WORKER'},\n",
       "  'timestamp': '2024-05-05T09:57:17.603910Z'},\n",
       " '663757fd981afd046cebee30': {'data': '{\"training_loss\": 0.6325000524520874, \"training_accuracy\": 0.8356666564941406, \"test_loss\": 0.47097623348236084, \"test_accuracy\": 0.8759999871253967, \"train_target_misclassification\": 0.20945945945945943, \"test_target_misclassification\": 0.24444444444444446, \"train_target_prediction_dist\": [3, 5, 1, 22, 3, 10, 5, 7, 234, 6], \"test_target_prediction_dist\": [2, 0, 0, 0, 4, 3, 1, 0, 34, 1]}',\n",
       "  'meta': '',\n",
       "  'model_id': 'a727e6f5-6c3e-4b53-a6e4-5eacb3fc880b',\n",
       "  'receiver': {'name': 'combiner', 'role': 'COMBINER'},\n",
       "  'sender': {'name': 'malicious_client1', 'role': 'WORKER'},\n",
       "  'timestamp': '2024-05-05T09:57:17.602614Z'},\n",
       " '663757fd981afd046cebee32': {'data': '{\"training_loss\": 0.582967221736908, \"training_accuracy\": 0.8536666631698608, \"test_loss\": 0.5241051316261292, \"test_accuracy\": 0.8579999804496765, \"train_target_misclassification\": 0.16161616161616166, \"test_target_misclassification\": 0.25, \"train_target_prediction_dist\": [1, 3, 4, 16, 1, 4, 1, 2, 249, 16], \"test_target_prediction_dist\": [0, 0, 2, 2, 5, 2, 1, 0, 36, 0]}',\n",
       "  'meta': '',\n",
       "  'model_id': 'a727e6f5-6c3e-4b53-a6e4-5eacb3fc880b',\n",
       "  'receiver': {'name': 'combiner', 'role': 'COMBINER'},\n",
       "  'sender': {'name': 'benign_client12', 'role': 'WORKER'},\n",
       "  'timestamp': '2024-05-05T09:57:17.609707Z'},\n",
       " '663757fd981afd046cebee34': {'data': '{\"training_loss\": 0.6246745586395264, \"training_accuracy\": 0.8263333439826965, \"test_loss\": 0.519125759601593, \"test_accuracy\": 0.8659999966621399, \"train_target_misclassification\": 0.2754098360655738, \"test_target_misclassification\": 0.1964285714285714, \"train_target_prediction_dist\": [6, 19, 6, 23, 0, 13, 3, 4, 221, 10], \"test_target_prediction_dist\": [2, 1, 0, 2, 1, 4, 0, 0, 45, 1]}',\n",
       "  'meta': '',\n",
       "  'model_id': 'a727e6f5-6c3e-4b53-a6e4-5eacb3fc880b',\n",
       "  'receiver': {'name': 'combiner', 'role': 'COMBINER'},\n",
       "  'sender': {'name': 'benign_client16', 'role': 'WORKER'},\n",
       "  'timestamp': '2024-05-05T09:57:17.609167Z'},\n",
       " '663757fd981afd046cebee35': {'data': '{\"training_loss\": 0.5950437188148499, \"training_accuracy\": 0.8420000076293945, \"test_loss\": 0.7152915000915527, \"test_accuracy\": 0.8119999766349792, \"train_target_misclassification\": 0.26690391459074736, \"test_target_misclassification\": 0.34615384615384615, \"train_target_prediction_dist\": [6, 10, 7, 14, 12, 10, 3, 2, 206, 11], \"test_target_prediction_dist\": [1, 4, 2, 3, 0, 3, 1, 2, 34, 2]}',\n",
       "  'meta': '',\n",
       "  'model_id': 'a727e6f5-6c3e-4b53-a6e4-5eacb3fc880b',\n",
       "  'receiver': {'name': 'combiner', 'role': 'COMBINER'},\n",
       "  'sender': {'name': 'benign_client4', 'role': 'WORKER'},\n",
       "  'timestamp': '2024-05-05T09:57:17.611333Z'},\n",
       " '663757fd981afd046cebee36': {'data': '{\"training_loss\": 0.5898148417472839, \"training_accuracy\": 0.8446666598320007, \"test_loss\": 0.6320499777793884, \"test_accuracy\": 0.8519999980926514, \"train_target_misclassification\": 0.24137931034482762, \"test_target_misclassification\": 0.326530612244898, \"train_target_prediction_dist\": [0, 14, 4, 26, 2, 5, 4, 4, 220, 11], \"test_target_prediction_dist\": [0, 0, 1, 6, 1, 2, 2, 1, 33, 3]}',\n",
       "  'meta': '',\n",
       "  'model_id': 'a727e6f5-6c3e-4b53-a6e4-5eacb3fc880b',\n",
       "  'receiver': {'name': 'combiner', 'role': 'COMBINER'},\n",
       "  'sender': {'name': 'benign_client2', 'role': 'WORKER'},\n",
       "  'timestamp': '2024-05-05T09:57:17.612500Z'},\n",
       " '663757fd981afd046cebee37': {'data': '{\"training_loss\": 0.6248481869697571, \"training_accuracy\": 0.8336666822433472, \"test_loss\": 0.6677424311637878, \"test_accuracy\": 0.8259999752044678, \"train_target_misclassification\": 0.2646048109965635, \"test_target_misclassification\": 0.339622641509434, \"train_target_prediction_dist\": [3, 10, 3, 25, 2, 10, 4, 4, 214, 16], \"test_target_prediction_dist\": [1, 1, 1, 5, 3, 0, 2, 3, 35, 2]}',\n",
       "  'meta': '',\n",
       "  'model_id': 'a727e6f5-6c3e-4b53-a6e4-5eacb3fc880b',\n",
       "  'receiver': {'name': 'combiner', 'role': 'COMBINER'},\n",
       "  'sender': {'name': 'benign_client10', 'role': 'WORKER'},\n",
       "  'timestamp': '2024-05-05T09:57:17.612291Z'},\n",
       " '663757fd981afd046cebee38': {'data': '{\"training_loss\": 0.566935122013092, \"training_accuracy\": 0.8473333120346069, \"test_loss\": 0.45563217997550964, \"test_accuracy\": 0.9039999842643738, \"train_target_misclassification\": 0.24, \"test_target_misclassification\": 0.13043478260869568, \"train_target_prediction_dist\": [3, 16, 11, 19, 1, 9, 0, 4, 228, 9], \"test_target_prediction_dist\": [0, 0, 1, 1, 1, 2, 0, 0, 40, 1]}',\n",
       "  'meta': '',\n",
       "  'model_id': 'a727e6f5-6c3e-4b53-a6e4-5eacb3fc880b',\n",
       "  'receiver': {'name': 'combiner', 'role': 'COMBINER'},\n",
       "  'sender': {'name': 'malicious_client3', 'role': 'WORKER'},\n",
       "  'timestamp': '2024-05-05T09:57:17.613341Z'},\n",
       " '663757fd981afd046cebee3a': {'data': '{\"training_loss\": 0.6177330017089844, \"training_accuracy\": 0.8339999914169312, \"test_loss\": 0.7151616215705872, \"test_accuracy\": 0.8119999766349792, \"train_target_misclassification\": 0.2568493150684932, \"test_target_misclassification\": 0.21153846153846156, \"train_target_prediction_dist\": [2, 19, 2, 19, 2, 10, 7, 3, 217, 11], \"test_target_prediction_dist\": [2, 0, 0, 3, 1, 2, 1, 1, 41, 1]}',\n",
       "  'meta': '',\n",
       "  'model_id': 'a727e6f5-6c3e-4b53-a6e4-5eacb3fc880b',\n",
       "  'receiver': {'name': 'combiner', 'role': 'COMBINER'},\n",
       "  'sender': {'name': 'benign_client9', 'role': 'WORKER'},\n",
       "  'timestamp': '2024-05-05T09:57:17.615517Z'},\n",
       " '663757fd981afd046cebee3b': {'data': '{\"training_loss\": 0.6188052296638489, \"training_accuracy\": 0.8336666822433472, \"test_loss\": 0.4885103106498718, \"test_accuracy\": 0.8859999775886536, \"train_target_misclassification\": 0.2534722222222222, \"test_target_misclassification\": 0.16981132075471694, \"train_target_prediction_dist\": [2, 11, 7, 22, 3, 10, 1, 5, 215, 12], \"test_target_prediction_dist\": [0, 0, 2, 2, 0, 1, 0, 0, 44, 4]}',\n",
       "  'meta': '',\n",
       "  'model_id': 'a727e6f5-6c3e-4b53-a6e4-5eacb3fc880b',\n",
       "  'receiver': {'name': 'combiner', 'role': 'COMBINER'},\n",
       "  'sender': {'name': 'benign_client13', 'role': 'WORKER'},\n",
       "  'timestamp': '2024-05-05T09:57:17.616030Z'},\n",
       " '663757fd981afd046cebee3c': {'data': '{\"training_loss\": 0.6195281744003296, \"training_accuracy\": 0.8336666822433472, \"test_loss\": 0.4595511257648468, \"test_accuracy\": 0.906000018119812, \"train_target_misclassification\": 0.2824675324675324, \"test_target_misclassification\": 0.10204081632653061, \"train_target_prediction_dist\": [2, 18, 9, 24, 5, 8, 1, 5, 221, 15], \"test_target_prediction_dist\": [0, 0, 1, 1, 0, 0, 0, 1, 44, 2]}',\n",
       "  'meta': '',\n",
       "  'model_id': 'a727e6f5-6c3e-4b53-a6e4-5eacb3fc880b',\n",
       "  'receiver': {'name': 'combiner', 'role': 'COMBINER'},\n",
       "  'sender': {'name': 'benign_client15', 'role': 'WORKER'},\n",
       "  'timestamp': '2024-05-05T09:57:17.616964Z'},\n",
       " '663757fd981afd046cebee3d': {'data': '{\"training_loss\": 0.6226118803024292, \"training_accuracy\": 0.8373333215713501, \"test_loss\": 0.5782070159912109, \"test_accuracy\": 0.843999981880188, \"train_target_misclassification\": 0.21071428571428574, \"test_target_misclassification\": 0.26190476190476186, \"train_target_prediction_dist\": [5, 10, 7, 12, 4, 7, 1, 2, 221, 11], \"test_target_prediction_dist\": [0, 1, 0, 2, 0, 1, 3, 1, 31, 3]}',\n",
       "  'meta': '',\n",
       "  'model_id': 'a727e6f5-6c3e-4b53-a6e4-5eacb3fc880b',\n",
       "  'receiver': {'name': 'combiner', 'role': 'COMBINER'},\n",
       "  'sender': {'name': 'benign_client14', 'role': 'WORKER'},\n",
       "  'timestamp': '2024-05-05T09:57:17.615470Z'},\n",
       " '663757fd981afd046cebee3e': {'data': '{\"training_loss\": 0.6444909572601318, \"training_accuracy\": 0.8196666836738586, \"test_loss\": 0.6607779860496521, \"test_accuracy\": 0.8420000076293945, \"train_target_misclassification\": 0.2566666666666667, \"test_target_misclassification\": 0.25, \"train_target_prediction_dist\": [1, 13, 9, 18, 4, 9, 5, 4, 223, 14], \"test_target_prediction_dist\": [1, 3, 1, 1, 0, 3, 0, 2, 33, 0]}',\n",
       "  'meta': '',\n",
       "  'model_id': 'a727e6f5-6c3e-4b53-a6e4-5eacb3fc880b',\n",
       "  'receiver': {'name': 'combiner', 'role': 'COMBINER'},\n",
       "  'sender': {'name': 'benign_client6', 'role': 'WORKER'},\n",
       "  'timestamp': '2024-05-05T09:57:17.616418Z'}}"
      ]
     },
     "execution_count": 38,
     "metadata": {},
     "output_type": "execute_result"
    }
   ],
   "source": [
    "client.list_validations(modelId = model_trail[20]['model'])"
   ]
  },
  {
   "cell_type": "code",
   "execution_count": 39,
   "id": "7ed44b08-2284-4fb7-b869-04e427384f25",
   "metadata": {},
   "outputs": [
    {
     "data": {
      "text/plain": [
       "{'training_loss': 0.611663281917572,\n",
       " 'training_accuracy': 0.8330000042915344,\n",
       " 'test_loss': 0.31753280758857727,\n",
       " 'test_accuracy': 0.949999988079071,\n",
       " 'train_target_misclassification': 0.21967213114754103,\n",
       " 'test_target_misclassification': 0.08333333333333337,\n",
       " 'train_target_prediction_dist': [1, 12, 8, 17, 3, 6, 4, 6, 238, 10],\n",
       " 'test_target_prediction_dist': [1, 1, 0, 0, 0, 1, 1, 0, 44, 0]}"
      ]
     },
     "execution_count": 39,
     "metadata": {},
     "output_type": "execute_result"
    }
   ],
   "source": [
    "json.loads(client.list_validations(modelId = model_trail[20]['model'])['663757fd981afd046cebee22']['data'])"
   ]
  },
  {
   "cell_type": "code",
   "execution_count": 55,
   "id": "78f1ef0e-db6e-4ca7-b20d-8203cb5900c2",
   "metadata": {},
   "outputs": [
    {
     "name": "stdout",
     "output_type": "stream",
     "text": [
      "[1, 2, 2, 1, 0, 3, 0, 2, 33, 0]\n",
      "[1, 1, 0, 0, 0, 1, 1, 0, 44, 0]\n",
      "[0, 1, 0, 1, 0, 2, 3, 0, 31, 4]\n",
      "[1, 0, 0, 1, 1, 3, 0, 2, 30, 2]\n",
      "[0, 0, 1, 0, 0, 1, 0, 1, 44, 2]\n",
      "[1, 0, 0, 0, 3, 4, 2, 0, 34, 1]\n",
      "[0, 3, 1, 3, 2, 1, 0, 0, 36, 2]\n",
      "[0, 0, 0, 6, 0, 2, 0, 3, 33, 1]\n",
      "[0, 1, 0, 1, 2, 2, 0, 1, 40, 3]\n",
      "[0, 0, 1, 1, 5, 3, 1, 0, 37, 0]\n",
      "[1, 1, 1, 4, 3, 0, 2, 2, 36, 3]\n",
      "[1, 0, 0, 3, 1, 3, 1, 1, 41, 1]\n",
      "[0, 0, 0, 2, 0, 0, 1, 0, 47, 3]\n",
      "[0, 0, 0, 1, 1, 2, 0, 0, 41, 1]\n",
      "[1, 1, 0, 2, 0, 5, 0, 0, 46, 1]\n",
      "[0, 2, 1, 4, 0, 5, 0, 0, 40, 1]\n",
      "[1, 2, 1, 2, 2, 3, 1, 0, 37, 2]\n",
      "[0, 0, 1, 4, 1, 3, 2, 1, 34, 3]\n",
      "[1, 3, 2, 3, 0, 3, 1, 2, 36, 1]\n",
      "[2, 3, 0, 6, 2, 1, 0, 1, 32, 3]\n"
     ]
    }
   ],
   "source": [
    "for key in client.list_validations(modelId = model_trail[24]['model']).keys():\n",
    "    print(json.loads(client.list_validations(modelId = model_trail[24]['model'])[key]['data'])['test_target_prediction_dist'])"
   ]
  },
  {
   "cell_type": "code",
   "execution_count": 47,
   "id": "73e748fa-be39-4cb7-9bc6-cf88e2c69c0e",
   "metadata": {},
   "outputs": [
    {
     "data": {
      "text/plain": [
       "[3, 25, 16, 34, 6, 13, 9, 12, 520, 20]"
      ]
     },
     "execution_count": 47,
     "metadata": {},
     "output_type": "execute_result"
    }
   ],
   "source": [
    "np.sum([[1, 12, 8, 17, 3, 6, 4, 6, 238, 10], [1, 1, 0, 0, 0, 1, 1, 0, 44, 0], [1, 12, 8, 17, 3, 6, 4, 6, 238, 10]], axis=0).tolist()"
   ]
  },
  {
   "cell_type": "code",
   "execution_count": null,
   "id": "5b70777e-33ef-4063-9749-9c9ab26f7627",
   "metadata": {},
   "outputs": [],
   "source": [
    "validations = []\n",
    "\n",
    "for model_instance in model_trail:\n",
    "    worker_results = client.list_validations(modelId=model_instance['model'])\n",
    "    result_ids = [result_id for result_id in worker_results]\n",
    "    for result_id in result_ids:\n",
    "        worker_result = worker_results.get(result_id)\n",
    "        client_type = 'benign'\n",
    "        \n",
    "        if 'malicious' in worker_result['sender']['name']:\n",
    "            client_type = 'malicious'\n",
    "            \n",
    "        validation = {\n",
    "            'model_committed_at': model_instance['committed_at'],\n",
    "            'session_id': model_instance['session_id'],\n",
    "            'model': model_instance['model'],\n",
    "            'client_name': worker_result['sender']['name'],\n",
    "            'client_role': worker_result['sender']['role'],\n",
    "            'client_type': client_type,\n",
    "            'training_loss': json.loads(worker_result['data'])['training_loss'],\n",
    "            'training_accuracy': json.loads(worker_result['data'])['training_accuracy'],\n",
    "            'test_loss': json.loads(worker_result['data'])['test_loss'],\n",
    "            'test_accuracy': json.loads(worker_result['data'])['test_accuracy']\n",
    "        }\n",
    "        \n",
    "        validations.append(validation)\n",
    "        "
   ]
  }
 ],
 "metadata": {
  "kernelspec": {
   "display_name": "Python 3 (ipykernel)",
   "language": "python",
   "name": "python3"
  },
  "language_info": {
   "codemirror_mode": {
    "name": "ipython",
    "version": 3
   },
   "file_extension": ".py",
   "mimetype": "text/x-python",
   "name": "python",
   "nbconvert_exporter": "python",
   "pygments_lexer": "ipython3",
   "version": "3.10.12"
  }
 },
 "nbformat": 4,
 "nbformat_minor": 5
}
