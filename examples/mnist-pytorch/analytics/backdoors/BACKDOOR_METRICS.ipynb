{
 "cells": [
  {
   "cell_type": "code",
   "execution_count": 1,
   "id": "d2879f9a-226b-4867-9978-1c11de216052",
   "metadata": {},
   "outputs": [],
   "source": [
    "# HELPER FUNCTIONS\n",
    "\n",
    "import collections\n",
    "\n",
    "def get_mean_metrics(models, metric_type):\n",
    "    mean_acc_fedavg = []\n",
    "    for model in models[\"result\"]:\n",
    "        model_id = model[\"model\"]\n",
    "        validations = client.list_validations(modelId=model_id)\n",
    "\n",
    "        acc = []\n",
    "        for _, validation in validations.items(): \n",
    "            metrics = json.loads(validation['data'])\n",
    "            if metric_type in metrics:\n",
    "                acc.append(metrics[metric_type])\n",
    "\n",
    "        if acc:\n",
    "            mean_acc_fedavg.append(np.mean(acc))\n",
    "\n",
    "    return np.min(mean_acc_fedavg) if 'loss' in metric_type else np.max(mean_acc_fedavg)\n",
    "\n",
    "def get_baseline_metrics(baseline_session_id):\n",
    "    models = client.list_models(baseline_session_id)\n",
    "\n",
    "    baseline_metrics = {\n",
    "        'training_loss': get_mean_metrics(models, 'training_loss'),\n",
    "        'training_accuracy': get_mean_metrics(models, 'training_accuracy'),\n",
    "        'test_loss': get_mean_metrics(models, 'test_loss'),\n",
    "        'test_accuracy': get_mean_metrics(models, 'test_accuracy')\n",
    "    }\n",
    "\n",
    "    return baseline_metrics"
   ]
  },
  {
   "cell_type": "code",
   "execution_count": 3,
   "id": "076683a6-4372-4f8c-b480-2be3fc3be7db",
   "metadata": {},
   "outputs": [],
   "source": [
    "from fedn import APIClient\n",
    "import time\n",
    "import uuid\n",
    "import json\n",
    "import matplotlib.pyplot as plt\n",
    "import numpy as np\n",
    "import collections\n",
    "\n",
    "import sys\n",
    "sys.path.append('/home/ubuntu/fedn-attack-sim-uu/examples/mnist-pytorch')\n",
    "\n",
    "from combiner_config import COMBINER_IP\n",
    "\n",
    "DISCOVER_HOST = COMBINER_IP\n",
    "DISCOVER_PORT = 8092\n",
    "client = APIClient(DISCOVER_HOST, DISCOVER_PORT)"
   ]
  },
  {
   "cell_type": "code",
   "execution_count": 4,
   "id": "25a7bf12-b2ad-4d76-9c46-257c9bc65849",
   "metadata": {},
   "outputs": [
    {
     "data": {
      "text/plain": [
       "['BACKDOOR_TEST_04',\n",
       " 'BACKDOOR_TEST_03',\n",
       " 'BACKDOOR_TEST_02',\n",
       " 'BACKDOOR_TEST_01',\n",
       " 'MNIST_GBP100_25R_16_04',\n",
       " 'MNIST_GBP100_25R_18_02',\n",
       " 'MNIST_GBP100_25R_19_01',\n",
       " 'MNIST_GBP010_25R_16_04',\n",
       " 'MNIST_GBP010_25R_18_02',\n",
       " 'MNIST_GBP010_25R_19_01',\n",
       " 'MNIST_LFB_25R_16_04_V2',\n",
       " 'MNIST_LFB_25R_18_02_V2',\n",
       " 'MNIST_LFB_25R_19_01_V2',\n",
       " 'TEST_5_WITH_EPOCH_01',\n",
       " 'TEST_EPOCH_04',\n",
       " 'TEST_EPOCH_03',\n",
       " 'TEST_EPOCH_02',\n",
       " 'TEST_EPOCH_01',\n",
       " 'MNIST_GBM001_25R_18_02',\n",
       " 'MNIST_GBM001_25R_19_01',\n",
       " 'MNIST_BASE_25R_20_00']"
      ]
     },
     "execution_count": 4,
     "metadata": {},
     "output_type": "execute_result"
    }
   ],
   "source": [
    "[session['session_id'] for session in client.list_sessions()['result']]"
   ]
  },
  {
   "cell_type": "code",
   "execution_count": 5,
   "id": "f054b1d4-b213-4059-a90e-f79e4d35178e",
   "metadata": {},
   "outputs": [
    {
     "name": "stdin",
     "output_type": "stream",
     "text": [
      "Provide a session_id:  BACKDOOR_TEST_03\n"
     ]
    }
   ],
   "source": [
    "session_id = input(\"Provide a session_id: \")"
   ]
  },
  {
   "cell_type": "code",
   "execution_count": 6,
   "id": "8292e3ab-983f-4799-8a7a-46036cc6bdb7",
   "metadata": {},
   "outputs": [
    {
     "name": "stdin",
     "output_type": "stream",
     "text": [
      "Provide baseline session_id:  MNIST_BASE_25R_20_00\n"
     ]
    }
   ],
   "source": [
    "baseline_metrics = get_baseline_metrics(input(\"Provide baseline session_id: \"))"
   ]
  },
  {
   "cell_type": "code",
   "execution_count": 7,
   "id": "a79ec1e8-9987-43e0-8517-969b38fbf817",
   "metadata": {},
   "outputs": [
    {
     "data": {
      "text/plain": [
       "{'training_loss': 0.34693132489919665,\n",
       " 'training_accuracy': 0.9029666662216187,\n",
       " 'test_loss': 0.3342032466083765,\n",
       " 'test_accuracy': 0.9060999989509583}"
      ]
     },
     "execution_count": 7,
     "metadata": {},
     "output_type": "execute_result"
    }
   ],
   "source": []
  }
 ],
 "metadata": {
  "kernelspec": {
   "display_name": "Python 3 (ipykernel)",
   "language": "python",
   "name": "python3"
  },
  "language_info": {
   "codemirror_mode": {
    "name": "ipython",
    "version": 3
   },
   "file_extension": ".py",
   "mimetype": "text/x-python",
   "name": "python",
   "nbconvert_exporter": "python",
   "pygments_lexer": "ipython3",
   "version": "3.10.12"
  }
 },
 "nbformat": 4,
 "nbformat_minor": 5
}
