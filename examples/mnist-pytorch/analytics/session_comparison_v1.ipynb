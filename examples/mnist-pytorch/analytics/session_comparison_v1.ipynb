{
 "cells": [
  {
   "cell_type": "code",
   "execution_count": 1,
   "id": "9c13d247-ddb8-4649-9ae0-f0ed9ab3ae91",
   "metadata": {},
   "outputs": [],
   "source": [
    "from fedn import APIClient\n",
    "import time\n",
    "import uuid\n",
    "import json\n",
    "import matplotlib.pyplot as plt\n",
    "import numpy as np\n",
    "import collections"
   ]
  },
  {
   "cell_type": "code",
   "execution_count": 2,
   "id": "97fae7a7-215c-447f-a017-4eb430d86d85",
   "metadata": {},
   "outputs": [],
   "source": [
    "DISCOVER_HOST = '10.0.0.4'\n",
    "DISCOVER_PORT = 8092\n",
    "client = APIClient(DISCOVER_HOST, DISCOVER_PORT)"
   ]
  },
  {
   "cell_type": "code",
   "execution_count": 3,
   "id": "e1336d28-0994-45e1-85b7-aa8f923d8078",
   "metadata": {},
   "outputs": [
    {
     "name": "stdout",
     "output_type": "stream",
     "text": [
      "1: experiment_fedavg_LF_05_03\n",
      "2: experiment_fedavg_LF_08_00\n",
      "3: experiment_fedavg_LF_06_02\n",
      "4: experiment_fedavg_LF_07_01\n"
     ]
    }
   ],
   "source": [
    "sessions = [session['session_id'] for session in client.list_sessions()['result']]\n",
    "\n",
    "for i in range(len(sessions)):\n",
    "    print(f\"{i+1}: {sessions[i]}\")"
   ]
  },
  {
   "cell_type": "code",
   "execution_count": 4,
   "id": "902568be-cf27-4183-955f-4058f0327e54",
   "metadata": {},
   "outputs": [
    {
     "name": "stdin",
     "output_type": "stream",
     "text": [
      "Provide a the sessions to be analyzed, seperated by a space:  1 2 3\n"
     ]
    }
   ],
   "source": [
    "session_ids_to_analyze = [int(x) - 1 for x in input(\"Provide a the sessions to be analyzed, seperated by a space: \").split()]"
   ]
  },
  {
   "cell_type": "code",
   "execution_count": 5,
   "id": "639a514d-cc3e-4eec-bf6d-cc7eb5c5af32",
   "metadata": {},
   "outputs": [
    {
     "data": {
      "text/plain": [
       "[0, 1, 2]"
      ]
     },
     "execution_count": 5,
     "metadata": {},
     "output_type": "execute_result"
    }
   ],
   "source": [
    "session_ids_to_analyze "
   ]
  },
  {
   "cell_type": "code",
   "execution_count": 6,
   "id": "8b433b78-bbce-4993-8a73-2c8c3289e954",
   "metadata": {},
   "outputs": [],
   "source": [
    "model_sets = [client.list_models(session) for session in sessions]"
   ]
  },
  {
   "cell_type": "code",
   "execution_count": 7,
   "id": "d6de531a-76f0-4e7d-ab34-8ead1c48d6ce",
   "metadata": {},
   "outputs": [],
   "source": [
    "# Check if round counts are same for all sessions\n",
    "const_model_count = model_sets[0]['count']\n",
    "for model_set in model_sets:\n",
    "    if model_set['count'] != const_model_count:\n",
    "        print(\"There is atleast one session which doesn't have the same model count\")\n",
    "        # Add code to terminate the script"
   ]
  },
  {
   "cell_type": "code",
   "execution_count": 8,
   "id": "01cb1582-4b20-47e7-861e-d55c90ba10b1",
   "metadata": {},
   "outputs": [],
   "source": [
    "selected_model_sets = [model_sets[x] for x in session_ids_to_analyze]\n",
    "\n",
    "for selected_model_set in selected_model_sets:\n",
    "    selected_model_set['result'].reverse()"
   ]
  },
  {
   "cell_type": "raw",
   "id": "16fec2cf-2282-411f-95db-5c2099e34161",
   "metadata": {},
   "source": [
    "# client.list_validations(modelId = '388a829d-f2db-42c5-9c3d-0c5278659999')\n",
    "\n",
    "metrics = []\n",
    "\n",
    "for session_id_to_analyze in session_ids_to_analyze:\n",
    "    session_metrics = {\n",
    "        \"session_id\": sessions[session_id_to_analyze],\n",
    "        \"training_loss\": [],\n",
    "        \"training_accuracy\": [],\n",
    "        \"test_loss\": [],\n",
    "        \"test_accuracy\": []\n",
    "    }\n",
    "    \n",
    "    model_set = model_sets[session_id_to_analyze]['result']\n",
    "\n",
    "    for model in model_set:\n",
    "        validations = client.list_validations(modelId = model['model'])\n",
    "        result_ids = [result_id for result_id in validations]\n",
    "        training_losses = []\n",
    "        training_accuracies = []\n",
    "        test_losses = []\n",
    "        test_accuracies = []\n",
    "        \n",
    "        for result_id in result_ids:\n",
    "            training_losses.append(json.loads(validations[result_id]['data'])['training_loss'])\n",
    "            training_accuracies.append(json.loads(validations[result_id]['data'])['training_accuracy'])\n",
    "            test_losses.append(json.loads(validations[result_id]['data'])['test_loss'])\n",
    "            test_accuracies.append(json.loads(validations[result_id]['data'])['test_accuracy'])\n",
    "\n",
    "        session_metrics['training_loss'].append(np.mean(training_losses))\n",
    "        session_metrics['training_accuracy'].append(np.mean(training_losses))\n",
    "        session_metrics['test_loss'].append(np.mean(training_losses))\n",
    "        session_metrics['test_accuracy'].append(np.mean(training_losses))\n",
    "\n",
    "    metrics.append(session_metrics)"
   ]
  },
  {
   "cell_type": "code",
   "execution_count": 28,
   "id": "1ff527de-cf0e-4887-8279-e27684028b94",
   "metadata": {},
   "outputs": [
    {
     "data": {
      "text/plain": [
       "[{'session_id': 'experiment_fedavg_LF_05_03',\n",
       "  'training_loss': [2.2400748133659363,\n",
       "   2.0548159778118134,\n",
       "   1.7135357111692429,\n",
       "   1.2745474576950073,\n",
       "   0.9709721878170967,\n",
       "   0.7872808128595352,\n",
       "   0.6697745472192764,\n",
       "   0.586538776755333,\n",
       "   0.5285701677203178,\n",
       "   0.48682498931884766],\n",
       "  'training_accuracy': [2.2400748133659363,\n",
       "   2.0548159778118134,\n",
       "   1.7135357111692429,\n",
       "   1.2745474576950073,\n",
       "   0.9709721878170967,\n",
       "   0.7872808128595352,\n",
       "   0.6697745472192764,\n",
       "   0.586538776755333,\n",
       "   0.5285701677203178,\n",
       "   0.48682498931884766],\n",
       "  'test_loss': [2.2400748133659363,\n",
       "   2.0548159778118134,\n",
       "   1.7135357111692429,\n",
       "   1.2745474576950073,\n",
       "   0.9709721878170967,\n",
       "   0.7872808128595352,\n",
       "   0.6697745472192764,\n",
       "   0.586538776755333,\n",
       "   0.5285701677203178,\n",
       "   0.48682498931884766],\n",
       "  'test_accuracy': [2.2400748133659363,\n",
       "   2.0548159778118134,\n",
       "   1.7135357111692429,\n",
       "   1.2745474576950073,\n",
       "   0.9709721878170967,\n",
       "   0.7872808128595352,\n",
       "   0.6697745472192764,\n",
       "   0.586538776755333,\n",
       "   0.5285701677203178,\n",
       "   0.48682498931884766]},\n",
       " {'session_id': 'experiment_fedavg_LF_08_00',\n",
       "  'training_loss': [2.2400025129318237,\n",
       "   2.055500864982605,\n",
       "   1.7159142941236496,\n",
       "   1.2732587605714798,\n",
       "   0.9702907577157021,\n",
       "   0.786011353135109,\n",
       "   0.6680652499198914,\n",
       "   0.5860828384757042,\n",
       "   0.527458380907774,\n",
       "   0.4863806441426277],\n",
       "  'training_accuracy': [2.2400025129318237,\n",
       "   2.055500864982605,\n",
       "   1.7159142941236496,\n",
       "   1.2732587605714798,\n",
       "   0.9702907577157021,\n",
       "   0.786011353135109,\n",
       "   0.6680652499198914,\n",
       "   0.5860828384757042,\n",
       "   0.527458380907774,\n",
       "   0.4863806441426277],\n",
       "  'test_loss': [2.2400025129318237,\n",
       "   2.055500864982605,\n",
       "   1.7159142941236496,\n",
       "   1.2732587605714798,\n",
       "   0.9702907577157021,\n",
       "   0.786011353135109,\n",
       "   0.6680652499198914,\n",
       "   0.5860828384757042,\n",
       "   0.527458380907774,\n",
       "   0.4863806441426277],\n",
       "  'test_accuracy': [2.2400025129318237,\n",
       "   2.055500864982605,\n",
       "   1.7159142941236496,\n",
       "   1.2732587605714798,\n",
       "   0.9702907577157021,\n",
       "   0.786011353135109,\n",
       "   0.6680652499198914,\n",
       "   0.5860828384757042,\n",
       "   0.527458380907774,\n",
       "   0.4863806441426277]},\n",
       " {'session_id': 'experiment_fedavg_LF_06_02',\n",
       "  'training_loss': [2.2397968769073486,\n",
       "   2.0550524592399597,\n",
       "   1.7128103971481323,\n",
       "   1.270746722817421,\n",
       "   0.9687439501285553,\n",
       "   0.7863074317574501,\n",
       "   0.6670341417193413,\n",
       "   0.5859188511967659,\n",
       "   0.528503280133009,\n",
       "   0.4854409769177437],\n",
       "  'training_accuracy': [2.2397968769073486,\n",
       "   2.0550524592399597,\n",
       "   1.7128103971481323,\n",
       "   1.270746722817421,\n",
       "   0.9687439501285553,\n",
       "   0.7863074317574501,\n",
       "   0.6670341417193413,\n",
       "   0.5859188511967659,\n",
       "   0.528503280133009,\n",
       "   0.4854409769177437],\n",
       "  'test_loss': [2.2397968769073486,\n",
       "   2.0550524592399597,\n",
       "   1.7128103971481323,\n",
       "   1.270746722817421,\n",
       "   0.9687439501285553,\n",
       "   0.7863074317574501,\n",
       "   0.6670341417193413,\n",
       "   0.5859188511967659,\n",
       "   0.528503280133009,\n",
       "   0.4854409769177437],\n",
       "  'test_accuracy': [2.2397968769073486,\n",
       "   2.0550524592399597,\n",
       "   1.7128103971481323,\n",
       "   1.270746722817421,\n",
       "   0.9687439501285553,\n",
       "   0.7863074317574501,\n",
       "   0.6670341417193413,\n",
       "   0.5859188511967659,\n",
       "   0.528503280133009,\n",
       "   0.4854409769177437]}]"
      ]
     },
     "execution_count": 28,
     "metadata": {},
     "output_type": "execute_result"
    }
   ],
   "source": [
    "metrics"
   ]
  }
 ],
 "metadata": {
  "kernelspec": {
   "display_name": "Python 3 (ipykernel)",
   "language": "python",
   "name": "python3"
  },
  "language_info": {
   "codemirror_mode": {
    "name": "ipython",
    "version": 3
   },
   "file_extension": ".py",
   "mimetype": "text/x-python",
   "name": "python",
   "nbconvert_exporter": "python",
   "pygments_lexer": "ipython3",
   "version": "3.10.12"
  }
 },
 "nbformat": 4,
 "nbformat_minor": 5
}
