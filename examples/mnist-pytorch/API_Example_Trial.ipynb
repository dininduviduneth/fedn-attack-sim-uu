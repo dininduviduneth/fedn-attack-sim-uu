{
 "cells": [
  {
   "cell_type": "markdown",
   "id": "622f7047",
   "metadata": {},
   "source": [
    "## FEDn API Example\n",
    "\n",
    "This notebook provides an example of how to use the FEDn API to organize experiments and to analyze validation results. We will here run one training session using FedAvg and one session using FedAdam and compare the results.\n",
    "\n",
    "When you start this tutorial you should have a deployed FEDn Network up and running, and you should have created the compute package and the initial model, see the README for instructions."
   ]
  },
  {
   "cell_type": "code",
   "execution_count": 1,
   "id": "95f99c4c",
   "metadata": {},
   "outputs": [
    {
     "name": "stdout",
     "output_type": "stream",
     "text": [
      "Active virtual environment path: /Users/dininduseneviratne/opt/anaconda3\n"
     ]
    }
   ],
   "source": [
    "import sys\n",
    "\n",
    "venv_path = getattr(sys, 'base_prefix', sys.prefix)\n",
    "print(\"Active virtual environment path:\", venv_path)"
   ]
  },
  {
   "cell_type": "code",
   "execution_count": 2,
   "id": "743dfe47",
   "metadata": {},
   "outputs": [],
   "source": [
    "from fedn import APIClient\n",
    "import time\n",
    "import uuid\n",
    "import json\n",
    "import matplotlib.pyplot as plt\n",
    "import numpy as np\n",
    "import collections"
   ]
  },
  {
   "cell_type": "markdown",
   "id": "1046a4e5",
   "metadata": {},
   "source": [
    "We make a client connection to the FEDn API service. Here we assume that FEDn is deployed locally in pseudo-distributed mode with default ports."
   ]
  },
  {
   "cell_type": "code",
   "execution_count": 3,
   "id": "1061722d",
   "metadata": {},
   "outputs": [],
   "source": [
    "DISCOVER_HOST = '127.0.0.1'\n",
    "DISCOVER_PORT = 8092\n",
    "client = APIClient(DISCOVER_HOST, DISCOVER_PORT)"
   ]
  },
  {
   "cell_type": "markdown",
   "id": "07f69f5f",
   "metadata": {},
   "source": [
    "Initialize FEDn with the compute package and seed model. Note that these files needs to be created separately by follwing instructions in the README."
   ]
  },
  {
   "cell_type": "code",
   "execution_count": 4,
   "id": "89f1111d-d9dc-44cc-89c9-33b8863c1a2d",
   "metadata": {},
   "outputs": [
    {
     "data": {
      "text/plain": [
       "'http://127.0.0.1:8092/set_package'"
      ]
     },
     "execution_count": 4,
     "metadata": {},
     "output_type": "execute_result"
    }
   ],
   "source": [
    "client._get_url('set_package')"
   ]
  },
  {
   "cell_type": "code",
   "execution_count": 5,
   "id": "46229f91",
   "metadata": {},
   "outputs": [
    {
     "data": {
      "text/plain": [
       "{'count': 0, 'result': []}"
      ]
     },
     "execution_count": 5,
     "metadata": {},
     "output_type": "execute_result"
    }
   ],
   "source": [
    "client.list_clients()"
   ]
  },
  {
   "cell_type": "code",
   "execution_count": 7,
   "id": "5107f6f9",
   "metadata": {},
   "outputs": [],
   "source": [
    "client.set_package('package.tgz', 'numpyhelper')\n",
    "client.set_initial_model('seed.npz')\n",
    "seed_model = client.get_initial_model()"
   ]
  },
  {
   "cell_type": "code",
   "execution_count": 8,
   "id": "299c78dd-c7df-41f5-836f-67d9ed7b222c",
   "metadata": {},
   "outputs": [
    {
     "data": {
      "text/plain": [
       "{'count': 1,\n",
       " 'result': [{'committed_at': 'Mon, 19 Feb 2024 22:36:48 GMT',\n",
       "   'description': None,\n",
       "   'file_name': 'package.tgz',\n",
       "   'helper': 'numpyhelper',\n",
       "   'id': 'aacf59ac-4d42-4179-96a8-54c78e2a61e2',\n",
       "   'name': None,\n",
       "   'storage_file_name': 'f5751871-a313-4509-84f3-a00e9f6e80b7.tgz'}]}"
      ]
     },
     "execution_count": 8,
     "metadata": {},
     "output_type": "execute_result"
    }
   ],
   "source": [
    "# seed_model\n",
    "client.list_compute_packages()"
   ]
  },
  {
   "cell_type": "markdown",
   "id": "4e26c50b",
   "metadata": {},
   "source": [
    "Next we start a training session using FedAvg and wait until it has finished:"
   ]
  },
  {
   "cell_type": "code",
   "execution_count": 29,
   "id": "f0380d35",
   "metadata": {},
   "outputs": [],
   "source": [
    "session_id = \"experiment_fedavg_01\"\n",
    "\n",
    "session_config_fedavg = {\n",
    "                    \"helper\": \"numpyhelper\",\n",
    "                    \"session_id\": session_id,\n",
    "                    \"aggregator\": \"fedavg\",\n",
    "                    \"model_id\": seed_model['model_id'],\n",
    "                    \"rounds\": 10\n",
    "                 }\n",
    "\n",
    "result_fedavg = client.start_session(**session_config_fedavg)"
   ]
  },
  {
   "cell_type": "markdown",
   "id": "8cc709c2",
   "metadata": {},
   "source": [
    "We wait for the session to finish: "
   ]
  },
  {
   "cell_type": "code",
   "execution_count": 10,
   "id": "19c3fe15-956f-4f29-99ff-872b5be77505",
   "metadata": {},
   "outputs": [
    {
     "data": {
      "text/plain": [
       "False"
      ]
     },
     "execution_count": 10,
     "metadata": {},
     "output_type": "execute_result"
    }
   ],
   "source": [
    "client.session_is_finished('experiment_fedavg_01')"
   ]
  },
  {
   "cell_type": "code",
   "execution_count": 17,
   "id": "897451fa",
   "metadata": {},
   "outputs": [],
   "source": [
    "while not client.session_is_finished(session_id):\n",
    "    time.sleep(2)"
   ]
  },
  {
   "cell_type": "code",
   "execution_count": 20,
   "id": "5e1b36f8",
   "metadata": {},
   "outputs": [
    {
     "data": {
      "text/plain": [
       "{'count': 10,\n",
       " 'result': [{'committed_at': 'Mon, 19 Feb 2024 22:47:17 GMT',\n",
       "   'model': '82bb6337-9acb-4f7b-a850-69a7d3c53349',\n",
       "   'session_id': 'experiment_fedavg_01'},\n",
       "  {'committed_at': 'Mon, 19 Feb 2024 22:46:31 GMT',\n",
       "   'model': 'bfd2e22b-f423-4506-9ce6-2f4d1990bc0d',\n",
       "   'session_id': 'experiment_fedavg_01'},\n",
       "  {'committed_at': 'Mon, 19 Feb 2024 22:45:46 GMT',\n",
       "   'model': 'bfae0afe-fe09-4a7f-be85-534e2c474c7c',\n",
       "   'session_id': 'experiment_fedavg_01'},\n",
       "  {'committed_at': 'Mon, 19 Feb 2024 22:44:59 GMT',\n",
       "   'model': 'c60bc667-9f25-43d6-9056-0f9f399c3015',\n",
       "   'session_id': 'experiment_fedavg_01'},\n",
       "  {'committed_at': 'Mon, 19 Feb 2024 22:44:14 GMT',\n",
       "   'model': 'ef259dc1-831a-402b-8012-b0c96f7b9b5f',\n",
       "   'session_id': 'experiment_fedavg_01'},\n",
       "  {'committed_at': 'Mon, 19 Feb 2024 22:43:28 GMT',\n",
       "   'model': 'd4a27349-ae1c-4fec-8ead-e77806ddafce',\n",
       "   'session_id': 'experiment_fedavg_01'},\n",
       "  {'committed_at': 'Mon, 19 Feb 2024 22:42:43 GMT',\n",
       "   'model': '726bb5c0-b9f3-47f7-a4c8-dc442dcb1a97',\n",
       "   'session_id': 'experiment_fedavg_01'},\n",
       "  {'committed_at': 'Mon, 19 Feb 2024 22:41:56 GMT',\n",
       "   'model': 'c78f7b02-ac23-42c7-a9fa-761643afae34',\n",
       "   'session_id': 'experiment_fedavg_01'},\n",
       "  {'committed_at': 'Mon, 19 Feb 2024 22:41:08 GMT',\n",
       "   'model': '16fb914c-0701-445b-a22f-2f38dfb3fce2',\n",
       "   'session_id': 'experiment_fedavg_01'},\n",
       "  {'committed_at': 'Mon, 19 Feb 2024 22:40:21 GMT',\n",
       "   'model': '5da2f760-ff7a-4460-ac4d-485ae775c6f1',\n",
       "   'session_id': 'experiment_fedavg_01'}]}"
      ]
     },
     "execution_count": 20,
     "metadata": {},
     "output_type": "execute_result"
    }
   ],
   "source": [
    "client.list_models(session_id)"
   ]
  },
  {
   "cell_type": "code",
   "execution_count": 19,
   "id": "bbff10fd",
   "metadata": {},
   "outputs": [
    {
     "data": {
      "text/plain": [
       "{'65ce3d883c89012b936d0574': {'data': '{\"training_loss\": 1.7628986835479736, \"training_accuracy\": 0.5660499930381775, \"test_loss\": 1.8147087097167969, \"test_accuracy\": 0.5355535745620728}',\n",
       "  'meta': '',\n",
       "  'model_id': 'df25397c-a153-487d-b579-66cde7a18a69',\n",
       "  'receiver': {'name': 'combiner', 'role': 'COMBINER'},\n",
       "  'sender': {'name': 'client1', 'role': 'WORKER'},\n",
       "  'timestamp': '2024-02-15T16:36:24.764326Z'},\n",
       " '65ce3d883c89012b936d0577': {'data': '{\"training_loss\": 1.7640464305877686, \"training_accuracy\": 0.571399986743927, \"test_loss\": 1.7038993835449219, \"test_accuracy\": 0.6003600358963013}',\n",
       "  'meta': '',\n",
       "  'model_id': 'df25397c-a153-487d-b579-66cde7a18a69',\n",
       "  'receiver': {'name': 'combiner', 'role': 'COMBINER'},\n",
       "  'sender': {'name': 'client3', 'role': 'WORKER'},\n",
       "  'timestamp': '2024-02-15T16:36:24.865375Z'},\n",
       " '65ce3d883c89012b936d057a': {'data': '{\"training_loss\": 1.7700767517089844, \"training_accuracy\": 0.5586000084877014, \"test_loss\": 1.7548625469207764, \"test_accuracy\": 0.5670567154884338}',\n",
       "  'meta': '',\n",
       "  'model_id': 'df25397c-a153-487d-b579-66cde7a18a69',\n",
       "  'receiver': {'name': 'combiner', 'role': 'COMBINER'},\n",
       "  'sender': {'name': 'client2', 'role': 'WORKER'},\n",
       "  'timestamp': '2024-02-15T16:36:24.895512Z'},\n",
       " '65ce3dba3c89012b936d0589': {'data': '{\"training_loss\": 0.8618974685668945, \"training_accuracy\": 0.787850022315979, \"test_loss\": 0.8402633666992188, \"test_accuracy\": 0.8007800579071045}',\n",
       "  'meta': '',\n",
       "  'model_id': '638fd390-4d02-4d26-8fb7-6f69e29b13de',\n",
       "  'receiver': {'name': 'combiner', 'role': 'COMBINER'},\n",
       "  'sender': {'name': 'client2', 'role': 'WORKER'},\n",
       "  'timestamp': '2024-02-15T16:37:14.672564Z'},\n",
       " '65ce3dba3c89012b936d058c': {'data': '{\"training_loss\": 0.8528557419776917, \"training_accuracy\": 0.7908499836921692, \"test_loss\": 0.9312968850135803, \"test_accuracy\": 0.7500749826431274}',\n",
       "  'meta': '',\n",
       "  'model_id': '638fd390-4d02-4d26-8fb7-6f69e29b13de',\n",
       "  'receiver': {'name': 'combiner', 'role': 'COMBINER'},\n",
       "  'sender': {'name': 'client1', 'role': 'WORKER'},\n",
       "  'timestamp': '2024-02-15T16:37:14.709212Z'},\n",
       " '65ce3dba3c89012b936d058f': {'data': '{\"training_loss\": 0.8409107327461243, \"training_accuracy\": 0.7985000014305115, \"test_loss\": 0.7394120097160339, \"test_accuracy\": 0.8415841460227966}',\n",
       "  'meta': '',\n",
       "  'model_id': '638fd390-4d02-4d26-8fb7-6f69e29b13de',\n",
       "  'receiver': {'name': 'combiner', 'role': 'COMBINER'},\n",
       "  'sender': {'name': 'client3', 'role': 'WORKER'},\n",
       "  'timestamp': '2024-02-15T16:37:14.772832Z'},\n",
       " '65ce3ded3c89012b936d059e': {'data': '{\"training_loss\": 0.5829011797904968, \"training_accuracy\": 0.854449987411499, \"test_loss\": 0.47482070326805115, \"test_accuracy\": 0.9009901285171509}',\n",
       "  'meta': '',\n",
       "  'model_id': 'd74faf10-446c-4b21-a1c7-6a1caca6bb05',\n",
       "  'receiver': {'name': 'combiner', 'role': 'COMBINER'},\n",
       "  'sender': {'name': 'client3', 'role': 'WORKER'},\n",
       "  'timestamp': '2024-02-15T16:38:05.413748Z'},\n",
       " '65ce3ded3c89012b936d059f': {'data': '{\"training_loss\": 0.6048128008842468, \"training_accuracy\": 0.8478500247001648, \"test_loss\": 0.5937780141830444, \"test_accuracy\": 0.8508850932121277}',\n",
       "  'meta': '',\n",
       "  'model_id': 'd74faf10-446c-4b21-a1c7-6a1caca6bb05',\n",
       "  'receiver': {'name': 'combiner', 'role': 'COMBINER'},\n",
       "  'sender': {'name': 'client2', 'role': 'WORKER'},\n",
       "  'timestamp': '2024-02-15T16:38:05.414039Z'},\n",
       " '65ce3ded3c89012b936d05a4': {'data': '{\"training_loss\": 0.596525251865387, \"training_accuracy\": 0.8499000072479248, \"test_loss\": 0.6727277040481567, \"test_accuracy\": 0.8205820322036743}',\n",
       "  'meta': '',\n",
       "  'model_id': 'd74faf10-446c-4b21-a1c7-6a1caca6bb05',\n",
       "  'receiver': {'name': 'combiner', 'role': 'COMBINER'},\n",
       "  'sender': {'name': 'client1', 'role': 'WORKER'},\n",
       "  'timestamp': '2024-02-15T16:38:05.504322Z'},\n",
       " '65ce3e213c89012b936d05b3': {'data': '{\"training_loss\": 0.48347821831703186, \"training_accuracy\": 0.8721500039100647, \"test_loss\": 0.47985026240348816, \"test_accuracy\": 0.8739873766899109}',\n",
       "  'meta': '',\n",
       "  'model_id': '9e1e8f30-8377-49d1-8b98-3bf5156cda18',\n",
       "  'receiver': {'name': 'combiner', 'role': 'COMBINER'},\n",
       "  'sender': {'name': 'client2', 'role': 'WORKER'},\n",
       "  'timestamp': '2024-02-15T16:38:56.995116Z'},\n",
       " '65ce3e213c89012b936d05b6': {'data': '{\"training_loss\": 0.46417298913002014, \"training_accuracy\": 0.8786500096321106, \"test_loss\": 0.35660260915756226, \"test_accuracy\": 0.9198920130729675}',\n",
       "  'meta': '',\n",
       "  'model_id': '9e1e8f30-8377-49d1-8b98-3bf5156cda18',\n",
       "  'receiver': {'name': 'combiner', 'role': 'COMBINER'},\n",
       "  'sender': {'name': 'client3', 'role': 'WORKER'},\n",
       "  'timestamp': '2024-02-15T16:38:57.066881Z'},\n",
       " '65ce3e213c89012b936d05b9': {'data': '{\"training_loss\": 0.475812703371048, \"training_accuracy\": 0.8735499978065491, \"test_loss\": 0.5458135008811951, \"test_accuracy\": 0.8502850532531738}',\n",
       "  'meta': '',\n",
       "  'model_id': '9e1e8f30-8377-49d1-8b98-3bf5156cda18',\n",
       "  'receiver': {'name': 'combiner', 'role': 'COMBINER'},\n",
       "  'sender': {'name': 'client1', 'role': 'WORKER'},\n",
       "  'timestamp': '2024-02-15T16:38:57.110386Z'},\n",
       " '65ce3e533c89012b936d05c8': {'data': '{\"training_loss\": 0.4122823178768158, \"training_accuracy\": 0.888700008392334, \"test_loss\": 0.47725507616996765, \"test_accuracy\": 0.8685868382453918}',\n",
       "  'meta': '',\n",
       "  'model_id': 'e2d6d3d1-9da7-404a-a86c-8df4dbc5c12d',\n",
       "  'receiver': {'name': 'combiner', 'role': 'COMBINER'},\n",
       "  'sender': {'name': 'client1', 'role': 'WORKER'},\n",
       "  'timestamp': '2024-02-15T16:39:47.973847Z'},\n",
       " '65ce3e533c89012b936d05c9': {'data': '{\"training_loss\": 0.4028920531272888, \"training_accuracy\": 0.8909000158309937, \"test_loss\": 0.29835525155067444, \"test_accuracy\": 0.9270927309989929}',\n",
       "  'meta': '',\n",
       "  'model_id': 'e2d6d3d1-9da7-404a-a86c-8df4dbc5c12d',\n",
       "  'receiver': {'name': 'combiner', 'role': 'COMBINER'},\n",
       "  'sender': {'name': 'client3', 'role': 'WORKER'},\n",
       "  'timestamp': '2024-02-15T16:39:47.973894Z'},\n",
       " '65ce3e543c89012b936d05ce': {'data': '{\"training_loss\": 0.4195935130119324, \"training_accuracy\": 0.8860499858856201, \"test_loss\": 0.4206794500350952, \"test_accuracy\": 0.8844884634017944}',\n",
       "  'meta': '',\n",
       "  'model_id': 'e2d6d3d1-9da7-404a-a86c-8df4dbc5c12d',\n",
       "  'receiver': {'name': 'combiner', 'role': 'COMBINER'},\n",
       "  'sender': {'name': 'client2', 'role': 'WORKER'},\n",
       "  'timestamp': '2024-02-15T16:39:48.007198Z'},\n",
       " '65ce3e903c89012b936d05dd': {'data': '{\"training_loss\": 0.3712598979473114, \"training_accuracy\": 0.8983500003814697, \"test_loss\": 0.4321826100349426, \"test_accuracy\": 0.8769876956939697}',\n",
       "  'meta': '',\n",
       "  'model_id': 'cbbbd1e5-7e01-4b0f-b930-1454cd9a78bc',\n",
       "  'receiver': {'name': 'combiner', 'role': 'COMBINER'},\n",
       "  'sender': {'name': 'client1', 'role': 'WORKER'},\n",
       "  'timestamp': '2024-02-15T16:40:48.600464Z'},\n",
       " '65ce3e903c89012b936d05de': {'data': '{\"training_loss\": 0.36359095573425293, \"training_accuracy\": 0.9000999927520752, \"test_loss\": 0.26175540685653687, \"test_accuracy\": 0.9327932596206665}',\n",
       "  'meta': '',\n",
       "  'model_id': 'cbbbd1e5-7e01-4b0f-b930-1454cd9a78bc',\n",
       "  'receiver': {'name': 'combiner', 'role': 'COMBINER'},\n",
       "  'sender': {'name': 'client3', 'role': 'WORKER'},\n",
       "  'timestamp': '2024-02-15T16:40:48.600422Z'},\n",
       " '65ce3e903c89012b936d05df': {'data': '{\"training_loss\": 0.3780359923839569, \"training_accuracy\": 0.8941500186920166, \"test_loss\": 0.38312745094299316, \"test_accuracy\": 0.8934893608093262}',\n",
       "  'meta': '',\n",
       "  'model_id': 'cbbbd1e5-7e01-4b0f-b930-1454cd9a78bc',\n",
       "  'receiver': {'name': 'combiner', 'role': 'COMBINER'},\n",
       "  'sender': {'name': 'client2', 'role': 'WORKER'},\n",
       "  'timestamp': '2024-02-15T16:40:48.601572Z'},\n",
       " '65ce3ec33c89012b936d05f2': {'data': '{\"training_loss\": 0.3339655101299286, \"training_accuracy\": 0.9052000045776367, \"test_loss\": 0.23604615032672882, \"test_accuracy\": 0.9375937581062317}',\n",
       "  'meta': '',\n",
       "  'model_id': 'cfa30b1e-50f4-49c1-872a-74e206224fad',\n",
       "  'receiver': {'name': 'combiner', 'role': 'COMBINER'},\n",
       "  'sender': {'name': 'client3', 'role': 'WORKER'},\n",
       "  'timestamp': '2024-02-15T16:41:39.086501Z'},\n",
       " '65ce3ec33c89012b936d05f5': {'data': '{\"training_loss\": 0.34792643785476685, \"training_accuracy\": 0.9006500244140625, \"test_loss\": 0.3529156446456909, \"test_accuracy\": 0.8982897996902466}',\n",
       "  'meta': '',\n",
       "  'model_id': 'cfa30b1e-50f4-49c1-872a-74e206224fad',\n",
       "  'receiver': {'name': 'combiner', 'role': 'COMBINER'},\n",
       "  'sender': {'name': 'client2', 'role': 'WORKER'},\n",
       "  'timestamp': '2024-02-15T16:41:39.178846Z'},\n",
       " '65ce3ec33c89012b936d05f8': {'data': '{\"training_loss\": 0.34049028158187866, \"training_accuracy\": 0.9057999849319458, \"test_loss\": 0.40113744139671326, \"test_accuracy\": 0.8817881941795349}',\n",
       "  'meta': '',\n",
       "  'model_id': 'cfa30b1e-50f4-49c1-872a-74e206224fad',\n",
       "  'receiver': {'name': 'combiner', 'role': 'COMBINER'},\n",
       "  'sender': {'name': 'client1', 'role': 'WORKER'},\n",
       "  'timestamp': '2024-02-15T16:41:39.199323Z'},\n",
       " '65ce3ef63c89012b936d0607': {'data': '{\"training_loss\": 0.3244686722755432, \"training_accuracy\": 0.9075499773025513, \"test_loss\": 0.3321787714958191, \"test_accuracy\": 0.9054905772209167}',\n",
       "  'meta': '',\n",
       "  'model_id': '6f1649f2-4528-45b3-930d-05b8174d0425',\n",
       "  'receiver': {'name': 'combiner', 'role': 'COMBINER'},\n",
       "  'sender': {'name': 'client2', 'role': 'WORKER'},\n",
       "  'timestamp': '2024-02-15T16:42:30.942397Z'},\n",
       " '65ce3ef63c89012b936d060a': {'data': '{\"training_loss\": 0.3115790784358978, \"training_accuracy\": 0.9112499952316284, \"test_loss\": 0.21730846166610718, \"test_accuracy\": 0.9423942565917969}',\n",
       "  'meta': '',\n",
       "  'model_id': '6f1649f2-4528-45b3-930d-05b8174d0425',\n",
       "  'receiver': {'name': 'combiner', 'role': 'COMBINER'},\n",
       "  'sender': {'name': 'client3', 'role': 'WORKER'},\n",
       "  'timestamp': '2024-02-15T16:42:30.981187Z'},\n",
       " '65ce3ef63c89012b936d060b': {'data': '{\"training_loss\": 0.31742143630981445, \"training_accuracy\": 0.9120500087738037, \"test_loss\": 0.37567412853240967, \"test_accuracy\": 0.890188992023468}',\n",
       "  'meta': '',\n",
       "  'model_id': '6f1649f2-4528-45b3-930d-05b8174d0425',\n",
       "  'receiver': {'name': 'combiner', 'role': 'COMBINER'},\n",
       "  'sender': {'name': 'client1', 'role': 'WORKER'},\n",
       "  'timestamp': '2024-02-15T16:42:30.984094Z'},\n",
       " '65ce3f293c89012b936d061c': {'data': '{\"training_loss\": 0.29328858852386475, \"training_accuracy\": 0.9147999882698059, \"test_loss\": 0.20261813700199127, \"test_accuracy\": 0.9450945258140564}',\n",
       "  'meta': '',\n",
       "  'model_id': '7c9fc414-6b66-4a32-a52f-0d2828d0f330',\n",
       "  'receiver': {'name': 'combiner', 'role': 'COMBINER'},\n",
       "  'sender': {'name': 'client3', 'role': 'WORKER'},\n",
       "  'timestamp': '2024-02-15T16:43:21.767852Z'},\n",
       " '65ce3f293c89012b936d061f': {'data': '{\"training_loss\": 0.29874613881111145, \"training_accuracy\": 0.9159500002861023, \"test_loss\": 0.3563796877861023, \"test_accuracy\": 0.8937893509864807}',\n",
       "  'meta': '',\n",
       "  'model_id': '7c9fc414-6b66-4a32-a52f-0d2828d0f330',\n",
       "  'receiver': {'name': 'combiner', 'role': 'COMBINER'},\n",
       "  'sender': {'name': 'client1', 'role': 'WORKER'},\n",
       "  'timestamp': '2024-02-15T16:43:21.823769Z'},\n",
       " '65ce3f293c89012b936d0622': {'data': '{\"training_loss\": 0.3062840402126312, \"training_accuracy\": 0.9117000102996826, \"test_loss\": 0.31219613552093506, \"test_accuracy\": 0.9123912453651428}',\n",
       "  'meta': '',\n",
       "  'model_id': '7c9fc414-6b66-4a32-a52f-0d2828d0f330',\n",
       "  'receiver': {'name': 'combiner', 'role': 'COMBINER'},\n",
       "  'sender': {'name': 'client2', 'role': 'WORKER'},\n",
       "  'timestamp': '2024-02-15T16:43:21.866123Z'},\n",
       " '65ce3f5f3c89012b936d062e': {'data': '{\"training_loss\": 0.29156309366226196, \"training_accuracy\": 0.9147999882698059, \"test_loss\": 0.30092886090278625, \"test_accuracy\": 0.9138913750648499}',\n",
       "  'meta': '',\n",
       "  'model_id': 'fadadc52-6c40-4a2b-8af7-bcf604863add',\n",
       "  'receiver': {'name': 'combiner', 'role': 'COMBINER'},\n",
       "  'sender': {'name': 'client2', 'role': 'WORKER'},\n",
       "  'timestamp': '2024-02-15T16:44:15.460110Z'},\n",
       " '65ce3f5f3c89012b936d0630': {'data': '{\"training_loss\": 0.2841481566429138, \"training_accuracy\": 0.9202499985694885, \"test_loss\": 0.3399277329444885, \"test_accuracy\": 0.8997899889945984}',\n",
       "  'meta': '',\n",
       "  'model_id': 'fadadc52-6c40-4a2b-8af7-bcf604863add',\n",
       "  'receiver': {'name': 'combiner', 'role': 'COMBINER'},\n",
       "  'sender': {'name': 'client1', 'role': 'WORKER'},\n",
       "  'timestamp': '2024-02-15T16:44:15.557984Z'},\n",
       " '65ce3f5f3c89012b936d0631': {'data': '{\"training_loss\": 0.2793633043766022, \"training_accuracy\": 0.9180999994277954, \"test_loss\": 0.19074541330337524, \"test_accuracy\": 0.9468947052955627}',\n",
       "  'meta': '',\n",
       "  'model_id': 'fadadc52-6c40-4a2b-8af7-bcf604863add',\n",
       "  'receiver': {'name': 'combiner', 'role': 'COMBINER'},\n",
       "  'sender': {'name': 'client3', 'role': 'WORKER'},\n",
       "  'timestamp': '2024-02-15T16:44:15.558406Z'}}"
      ]
     },
     "execution_count": 19,
     "metadata": {},
     "output_type": "execute_result"
    }
   ],
   "source": [
    "client.list_validations()"
   ]
  },
  {
   "cell_type": "markdown",
   "id": "16874cec",
   "metadata": {},
   "source": [
    "Next, we retrive all model validations from all clients, extract the training accuracy metric, and compute its mean value accross all clients"
   ]
  },
  {
   "cell_type": "code",
   "execution_count": 22,
   "id": "4e8044b7",
   "metadata": {},
   "outputs": [],
   "source": [
    "models = client.list_models(session_id)\n",
    "\n",
    "validations = []\n",
    "acc = collections.OrderedDict()\n",
    "for model in models[\"result\"]:\n",
    "    model_id = model[\"model\"]\n",
    "    validations = client.list_validations(modelId=model_id)\n",
    "\n",
    "    for _ , validation in validations.items(): \n",
    "        metrics = json.loads(validation['data'])\n",
    "        try:\n",
    "            acc[model_id].append(metrics['training_accuracy'])\n",
    "        except KeyError: \n",
    "            acc[model_id] = [metrics['training_accuracy']]\n",
    "            \n",
    "mean_acc_fedavg = []\n",
    "for model, data in acc.items():\n",
    "    mean_acc_fedavg.append(np.mean(data))\n",
    "mean_acc_fedavg.reverse()"
   ]
  },
  {
   "cell_type": "code",
   "execution_count": 20,
   "id": "48b783db-b19b-4933-b7c0-026900afb03c",
   "metadata": {},
   "outputs": [
    {
     "data": {
      "text/plain": [
       "{'65d35acdb7f7fd9fece77e27': {'data': '{\"training_loss\": 1.9962947368621826, \"training_accuracy\": 0.3310000002384186, \"test_loss\": 2.0077242851257324, \"test_accuracy\": 0.31803181767463684}',\n",
       "  'meta': '',\n",
       "  'model_id': '317d0197-0ca0-4fe0-8928-9ace65771de6',\n",
       "  'receiver': {'name': 'combiner', 'role': 'COMBINER'},\n",
       "  'sender': {'name': 'benign_client1', 'role': 'WORKER'},\n",
       "  'timestamp': '2024-02-19T13:42:37.091828Z'},\n",
       " '65d35acdb7f7fd9fece77e28': {'data': '{\"training_loss\": 1.9956560134887695, \"training_accuracy\": 0.32280001044273376, \"test_loss\": 1.9798307418823242, \"test_accuracy\": 0.33753374218940735}',\n",
       "  'meta': '',\n",
       "  'model_id': '317d0197-0ca0-4fe0-8928-9ace65771de6',\n",
       "  'receiver': {'name': 'combiner', 'role': 'COMBINER'},\n",
       "  'sender': {'name': 'benign_client2', 'role': 'WORKER'},\n",
       "  'timestamp': '2024-02-19T13:42:37.092133Z'},\n",
       " '65d35acdb7f7fd9fece77e29': {'data': '{\"training_loss\": 1.9967740774154663, \"training_accuracy\": 0.3303999900817871, \"test_loss\": 1.9797489643096924, \"test_accuracy\": 0.35373538732528687}',\n",
       "  'meta': '',\n",
       "  'model_id': '317d0197-0ca0-4fe0-8928-9ace65771de6',\n",
       "  'receiver': {'name': 'combiner', 'role': 'COMBINER'},\n",
       "  'sender': {'name': 'malignant_client1', 'role': 'WORKER'},\n",
       "  'timestamp': '2024-02-19T13:42:37.092213Z'}}"
      ]
     },
     "execution_count": 20,
     "metadata": {},
     "output_type": "execute_result"
    }
   ],
   "source": [
    "validations"
   ]
  },
  {
   "cell_type": "code",
   "execution_count": 23,
   "id": "42425c43",
   "metadata": {},
   "outputs": [
    {
     "data": {
      "text/plain": [
       "<matplotlib.legend.Legend at 0x7f8bd994dcd0>"
      ]
     },
     "execution_count": 23,
     "metadata": {},
     "output_type": "execute_result"
    },
    {
     "data": {
      "image/png": "[encoded data removed]",
      "text/plain": [
       "<Figure size 640x480 with 1 Axes>"
      ]
     },
     "metadata": {},
     "output_type": "display_data"
    }
   ],
   "source": [
    "x = range(1,len(mean_acc_fedavg)+1)\n",
    "plt.plot(x, mean_acc_fedavg)\n",
    "plt.legend(['Training Accuracy (FedAvg)'])"
   ]
  },
  {
   "cell_type": "markdown",
   "id": "4eeea5aa",
   "metadata": {},
   "source": [
    "Let's try another aggregation algorithm. We start another session using FedOpt (FedAdam)"
   ]
  },
  {
   "cell_type": "code",
   "execution_count": 22,
   "id": "4f70d7d9",
   "metadata": {},
   "outputs": [],
   "source": [
    "session_config_fedopt = {\n",
    "                    \"helper\": \"numpyhelper\",\n",
    "                    \"session_id\": \"experiment_fedopt_01\",\n",
    "                    \"aggregator\": \"fedopt\",\n",
    "                    \"model_id\": seed_model['model_id'],\n",
    "                    \"rounds\": 10\n",
    "                 }\n",
    "\n",
    "result_fedopt = client.start_session(**session_config_fedopt)"
   ]
  },
  {
   "cell_type": "code",
   "execution_count": 9,
   "id": "ce8a89a3",
   "metadata": {},
   "outputs": [],
   "source": [
    "while not client.session_is_finished(\"experiment_fedopt\"):\n",
    "    time.sleep(2)"
   ]
  },
  {
   "cell_type": "code",
   "execution_count": 24,
   "id": "31e3d4a3",
   "metadata": {},
   "outputs": [
    {
     "data": {
      "text/plain": [
       "True"
      ]
     },
     "execution_count": 24,
     "metadata": {},
     "output_type": "execute_result"
    }
   ],
   "source": [
    "client.session_is_finished(\"experiment_fedopt_01\")"
   ]
  },
  {
   "cell_type": "code",
   "execution_count": 25,
   "id": "900eb0a7",
   "metadata": {},
   "outputs": [],
   "source": [
    "models = client.list_models(session_id = \"experiment_fedopt_01\")\n",
    "\n",
    "validations = []\n",
    "acc = collections.OrderedDict()\n",
    "for model in models[\"result\"]:\n",
    "    model_id = model[\"model\"]\n",
    "    validations = client.list_validations(modelId=model_id)\n",
    "    for _ , validation in validations.items(): \n",
    "        metrics = json.loads(validation['data'])\n",
    "        try:\n",
    "            acc[model_id].append(metrics['training_accuracy'])\n",
    "        except KeyError: \n",
    "            acc[model_id] = [metrics['training_accuracy']]\n",
    "            \n",
    "mean_acc_fedopt = []\n",
    "for model, data in acc.items():\n",
    "    mean_acc_fedopt.append(np.mean(data))\n",
    "mean_acc_fedopt.reverse()"
   ]
  },
  {
   "cell_type": "markdown",
   "id": "40db4542",
   "metadata": {},
   "source": [
    "Finally, plot the resulting accuracy"
   ]
  },
  {
   "cell_type": "code",
   "execution_count": 41,
   "id": "d064aaf9",
   "metadata": {},
   "outputs": [
    {
     "data": {
      "image/png": "[encoded data removed]",
      "text/plain": [
       "<Figure size 640x480 with 1 Axes>"
      ]
     },
     "metadata": {},
     "output_type": "display_data"
    }
   ],
   "source": [
    "x = range(1,len(mean_acc_fedavg)+1)\n",
    "plt.plot(x, mean_acc_fedavg_clean, x, mean_acc_fedavg, x, mean_acc_fedopt)\n",
    "plt.legend(['FedAvg-Clean', 'FedAvg', 'FedAdam'])\n",
    "plt.show()"
   ]
  }
 ],
 "metadata": {
  "kernelspec": {
   "display_name": "Python (fedn)",
   "language": "python",
   "name": "fedn"
  },
  "language_info": {
   "codemirror_mode": {
    "name": "ipython",
    "version": 3
   },
   "file_extension": ".py",
   "mimetype": "text/x-python",
   "name": "python",
   "nbconvert_exporter": "python",
   "pygments_lexer": "ipython3",
   "version": "3.9.12"
  }
 },
 "nbformat": 4,
 "nbformat_minor": 5
}
