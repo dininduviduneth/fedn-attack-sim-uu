{
 "cells": [
  {
   "cell_type": "code",
   "execution_count": 48,
   "id": "76412a13-7560-4166-877c-b6ba9f613de1",
   "metadata": {},
   "outputs": [],
   "source": [
    "import collections\n",
    "import math\n",
    "import os\n",
    "import numpy as np\n",
    "\n",
    "import docker\n",
    "import fire\n",
    "import torch\n",
    "\n",
    "from fedn.utils.helpers.helpers import get_helper, save_metadata, save_metrics\n",
    "\n",
    "HELPER_MODULE = 'numpyhelper'\n",
    "helper = get_helper(HELPER_MODULE)\n",
    "\n",
    "NUM_CLASSES = 10"
   ]
  },
  {
   "cell_type": "code",
   "execution_count": 49,
   "id": "efb47c2a-d915-4a46-8c35-fe1e5d0d4d28",
   "metadata": {},
   "outputs": [],
   "source": [
    "def _get_data_path():\n",
    "    \"\"\" For test automation using docker-compose. \"\"\"\n",
    "    # Figure out FEDn client number from container name\n",
    "    client = docker.from_env()\n",
    "    container = client.containers.get(os.environ['HOSTNAME'])\n",
    "    number = container.name[-1]\n",
    "\n",
    "    # Return data path\n",
    "    return f\"/var/data/clients/{number}/mnist.pt\"\n",
    "\n",
    "\n",
    "def compile_model():\n",
    "    \"\"\" Compile the pytorch model.\n",
    "\n",
    "    :return: The compiled model.\n",
    "    :rtype: torch.nn.Module\n",
    "    \"\"\"\n",
    "    class Net(torch.nn.Module):\n",
    "        def __init__(self):\n",
    "            super(Net, self).__init__()\n",
    "            self.fc1 = torch.nn.Linear(784, 64)\n",
    "            self.fc2 = torch.nn.Linear(64, 32)\n",
    "            self.fc3 = torch.nn.Linear(32, 10)\n",
    "\n",
    "        def forward(self, x):\n",
    "            x = torch.nn.functional.relu(self.fc1(x.reshape(x.size(0), 784)))\n",
    "            x = torch.nn.functional.dropout(x, p=0.5, training=self.training)\n",
    "            x = torch.nn.functional.relu(self.fc2(x))\n",
    "            x = torch.nn.functional.log_softmax(self.fc3(x), dim=1)\n",
    "            return x\n",
    "\n",
    "    return Net()\n",
    "\n",
    "\n",
    "def load_data(data_path, is_train=True):\n",
    "    \"\"\" Load data from disk.\n",
    "\n",
    "    :param data_path: Path to data file.\n",
    "    :type data_path: str\n",
    "    :param is_train: Whether to load training or test data.\n",
    "    :type is_train: bool\n",
    "    :return: Tuple of data and labels.\n",
    "    :rtype: tuple\n",
    "    \"\"\"\n",
    "    if data_path is None:\n",
    "        data = torch.load(_get_data_path())\n",
    "    else:\n",
    "        data = torch.load(data_path)\n",
    "\n",
    "    if is_train:\n",
    "        X = data['x_train']\n",
    "        y = data['y_train']\n",
    "    else:\n",
    "        X = data['x_test']\n",
    "        y = data['y_test']\n",
    "\n",
    "    # Normalize\n",
    "    X = X / 255\n",
    "\n",
    "    return X, y\n",
    "\n",
    "\n",
    "def save_parameters(model, out_path):\n",
    "    \"\"\" Save model paramters to file.\n",
    "\n",
    "    :param model: The model to serialize.\n",
    "    :type model: torch.nn.Module\n",
    "    :param out_path: The path to save to.\n",
    "    :type out_path: str\n",
    "    \"\"\"\n",
    "    parameters_np = [val.cpu().numpy() for _, val in model.state_dict().items()]\n",
    "    helper.save(parameters_np, out_path)\n",
    "\n",
    "\n",
    "def load_parameters(model_path):\n",
    "    \"\"\" Load model parameters from file and populate model.\n",
    "\n",
    "    param model_path: The path to load from.\n",
    "    :type model_path: str\n",
    "    :return: The loaded model.\n",
    "    :rtype: torch.nn.Module\n",
    "    \"\"\"\n",
    "    model = compile_model()\n",
    "    parameters_np = helper.load(model_path)\n",
    "\n",
    "    params_dict = zip(model.state_dict().keys(), parameters_np)\n",
    "    state_dict = collections.OrderedDict({key: torch.tensor(x) for key, x in params_dict})\n",
    "    model.load_state_dict(state_dict, strict=True)\n",
    "    return model\n",
    "\n",
    "\n",
    "def init_seed(out_path='seed.npz'):\n",
    "    \"\"\" Initialize seed model and save it to file.\n",
    "\n",
    "    :param out_path: The path to save the seed model to.\n",
    "    :type out_path: str\n",
    "    \"\"\"\n",
    "    # Init and save\n",
    "    model = compile_model()\n",
    "    save_parameters(model, out_path)"
   ]
  },
  {
   "cell_type": "code",
   "execution_count": 50,
   "id": "fb456450-dd88-4d55-9fa1-f686af50a245",
   "metadata": {},
   "outputs": [
    {
     "name": "stdout",
     "output_type": "stream",
     "text": [
      "{'training_loss': 0.6538205742835999, 'training_accuracy': 0.8744000196456909, 'test_loss': 0.7502217292785645, 'test_accuracy': 0.8521999716758728}\n",
      "\n",
      "tensor([[-9.3730e+00, -1.3127e+01, -1.0891e+01,  ..., -1.1852e+01,\n",
      "         -1.6034e+01, -9.9978e+00],\n",
      "        [-1.0856e-03, -2.3935e+01, -8.8714e+00,  ..., -1.3370e+01,\n",
      "         -1.8083e+01, -1.4792e+01],\n",
      "        [-1.0239e+01, -1.0440e+01, -5.2536e+00,  ..., -5.8269e+00,\n",
      "         -8.6477e+00, -3.3972e+00],\n",
      "        ...,\n",
      "        [-8.6976e+00, -1.7985e+01, -6.5335e+00,  ..., -1.4066e+01,\n",
      "         -1.2280e+01, -1.0533e+01],\n",
      "        [-1.4057e+01, -1.3804e+01, -8.3379e+00,  ..., -6.8093e-04,\n",
      "         -2.2052e+01, -8.4107e+00],\n",
      "        [-1.2332e+01, -7.1750e-02, -3.3391e+00,  ..., -3.6753e+00,\n",
      "         -8.8733e+00, -7.2712e+00]])\n"
     ]
    }
   ],
   "source": [
    "# def validate(in_model_path, out_json_path, data_path=None, malicious=False, attack=None):\n",
    "in_model_path = '../trained_model.npz'\n",
    "out_json_path = None\n",
    "data_path = '../data/clients/1/mnist.pt'\n",
    "\n",
    "\"\"\" Validate model.\n",
    "\n",
    ":param in_model_path: The path to the input model.\n",
    ":type in_model_path: str\n",
    ":param out_json_path: The path to save the output JSON to.\n",
    ":type out_json_path: str\n",
    ":param data_path: The path to the data file.\n",
    ":type data_path: str\n",
    "\"\"\"\n",
    "# Load data\n",
    "x_train, y_train = load_data(data_path)\n",
    "x_test, y_test = load_data(data_path, is_train=False)\n",
    "\n",
    "# Load model\n",
    "model = load_parameters(in_model_path)\n",
    "model.eval()\n",
    "\n",
    "# Evaluate\n",
    "criterion = torch.nn.NLLLoss()\n",
    "with torch.no_grad():\n",
    "    train_out = model(x_train)\n",
    "    training_loss = criterion(train_out, y_train)\n",
    "    training_accuracy = torch.sum(torch.argmax(\n",
    "        train_out, dim=1) == y_train) / len(train_out)\n",
    "    test_out = model(x_test)\n",
    "    test_loss = criterion(test_out, y_test)\n",
    "    test_accuracy = torch.sum(torch.argmax(\n",
    "        test_out, dim=1) == y_test) / len(test_out)\n",
    "\n",
    "# JSON schema\n",
    "report = {\n",
    "    \"training_loss\": training_loss.item(),\n",
    "    \"training_accuracy\": training_accuracy.item(),\n",
    "    \"test_loss\": test_loss.item(),\n",
    "    \"test_accuracy\": test_accuracy.item(),\n",
    "}\n",
    "\n",
    "print(report)\n",
    "print()\n",
    "print(train_out)\n",
    "\n",
    "\n",
    "\n",
    "# validate(in_model_path = '../trained_model.npz', out_json_path = None, data_path = '../data/clients/1/mnist.pt')"
   ]
  },
  {
   "cell_type": "code",
   "execution_count": 51,
   "id": "b435c47b-979a-43bb-b5d3-bae962c7f8e5",
   "metadata": {},
   "outputs": [
    {
     "data": {
      "text/plain": [
       "tensor([5, 0, 4,  ..., 6, 7, 1])"
      ]
     },
     "execution_count": 51,
     "metadata": {},
     "output_type": "execute_result"
    }
   ],
   "source": [
    "torch.argmax(train_out, dim=1)"
   ]
  },
  {
   "cell_type": "code",
   "execution_count": 52,
   "id": "71a9348e-d984-4e84-b504-3f1dbc0adf47",
   "metadata": {},
   "outputs": [
    {
     "data": {
      "text/plain": [
       "tensor([False, False, False,  ..., False, False, False])"
      ]
     },
     "execution_count": 52,
     "metadata": {},
     "output_type": "execute_result"
    }
   ],
   "source": [
    "y_train == 3"
   ]
  },
  {
   "cell_type": "code",
   "execution_count": 53,
   "id": "4c7ad85d-3cc7-46bc-a21b-f9c7aef23f55",
   "metadata": {},
   "outputs": [
    {
     "data": {
      "text/plain": [
       "3073"
      ]
     },
     "execution_count": 53,
     "metadata": {},
     "output_type": "execute_result"
    }
   ],
   "source": [
    "np.sum((y_train == 3).tolist())"
   ]
  },
  {
   "cell_type": "code",
   "execution_count": 54,
   "id": "b13de51a-1f71-42ce-9ce6-abafb8aa0d87",
   "metadata": {},
   "outputs": [
    {
     "data": {
      "text/plain": [
       "3073"
      ]
     },
     "execution_count": 54,
     "metadata": {},
     "output_type": "execute_result"
    }
   ],
   "source": [
    "len(torch.argmax(train_out, dim=1)[y_train == 3])"
   ]
  },
  {
   "cell_type": "code",
   "execution_count": 55,
   "id": "b7563c1f-9498-4a03-93be-90e63ae9348d",
   "metadata": {},
   "outputs": [
    {
     "data": {
      "text/plain": [
       "tensor([False, False, False,  ..., False, False, False])"
      ]
     },
     "execution_count": 55,
     "metadata": {},
     "output_type": "execute_result"
    }
   ],
   "source": [
    "torch.argmax(train_out, dim=1)[y_train == 3] == 8"
   ]
  },
  {
   "cell_type": "code",
   "execution_count": 56,
   "id": "116238e2-8ca2-47b1-8749-793228c17fec",
   "metadata": {},
   "outputs": [
    {
     "data": {
      "text/plain": [
       "0"
      ]
     },
     "execution_count": 56,
     "metadata": {},
     "output_type": "execute_result"
    }
   ],
   "source": [
    "np.sum((torch.argmax(train_out, dim=1)[y_train == 3] == 8).tolist())"
   ]
  },
  {
   "cell_type": "code",
   "execution_count": 59,
   "id": "9120ec00-2c82-4958-8a45-d50685ac414b",
   "metadata": {},
   "outputs": [
    {
     "name": "stdout",
     "output_type": "stream",
     "text": [
      "0: 1\n",
      "1: 0\n",
      "2: 8\n",
      "3: 466\n",
      "4: 0\n",
      "5: 15\n",
      "6: 0\n",
      "7: 9\n",
      "8: 0\n",
      "9: 1\n"
     ]
    }
   ],
   "source": [
    "for i in range(10):\n",
    "    print(f\"{i}: {np.sum((torch.argmax(test_out, dim=1)[y_test == 3] == i).tolist())}\")"
   ]
  },
  {
   "cell_type": "code",
   "execution_count": 58,
   "id": "3c5a9c72-a17f-4469-8d78-b1ebcf607610",
   "metadata": {},
   "outputs": [
    {
     "data": {
      "text/plain": [
       "0.0"
      ]
     },
     "execution_count": 58,
     "metadata": {},
     "output_type": "execute_result"
    }
   ],
   "source": [
    "np.sum((torch.argmax(test_out, dim=1)[y_test == 3] == 8).tolist()) / len(torch.argmax(test_out, dim=1)[y_test == 3])"
   ]
  }
 ],
 "metadata": {
  "kernelspec": {
   "display_name": "Python 3 (ipykernel)",
   "language": "python",
   "name": "python3"
  },
  "language_info": {
   "codemirror_mode": {
    "name": "ipython",
    "version": 3
   },
   "file_extension": ".py",
   "mimetype": "text/x-python",
   "name": "python",
   "nbconvert_exporter": "python",
   "pygments_lexer": "ipython3",
   "version": "3.10.12"
  }
 },
 "nbformat": 4,
 "nbformat_minor": 5
}
