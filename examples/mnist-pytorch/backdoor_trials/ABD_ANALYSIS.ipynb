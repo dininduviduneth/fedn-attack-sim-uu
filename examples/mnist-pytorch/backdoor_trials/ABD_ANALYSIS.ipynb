{
 "cells": [
  {
   "cell_type": "code",
   "execution_count": 1,
   "id": "42f75ab3-bc33-468e-9b3c-baddedc0e5c1",
   "metadata": {},
   "outputs": [],
   "source": [
    "from fedn import APIClient\n",
    "import time\n",
    "import uuid\n",
    "import json\n",
    "import torch\n",
    "import matplotlib.pyplot as plt\n",
    "import numpy as np\n",
    "import collections\n",
    "from fedn.utils.helpers.helpers import get_helper, save_metadata, save_metrics\n",
    "\n",
    "import sys\n",
    "sys.path.append('/home/ubuntu/fedn-attack-sim-uu/examples/mnist-pytorch')\n",
    "\n",
    "from combiner_config import COMBINER_IP\n",
    "\n",
    "DISCOVER_HOST = COMBINER_IP\n",
    "DISCOVER_PORT = 8092\n",
    "client = APIClient(DISCOVER_HOST, DISCOVER_PORT)\n",
    "\n",
    "HELPER_MODULE = 'numpyhelper'\n",
    "helper = get_helper(HELPER_MODULE)\n",
    "\n",
    "def load_data(data_path, is_train=True):\n",
    "    \"\"\" Load data from disk.\n",
    "\n",
    "    :param data_path: Path to data file.\n",
    "    :type data_path: str\n",
    "    :param is_train: Whether to load training or test data.\n",
    "    :type is_train: bool\n",
    "    :return: Tuple of data and labels.\n",
    "    :rtype: tuple\n",
    "    \"\"\"\n",
    "    if data_path is None:\n",
    "        data = torch.load(_get_data_path())\n",
    "    else:\n",
    "        data = torch.load(data_path)\n",
    "\n",
    "    if is_train:\n",
    "        X = data['x_train']\n",
    "        y = data['y_train']\n",
    "    else:\n",
    "        X = data['x_test']\n",
    "        y = data['y_test']\n",
    "\n",
    "    # Normalize\n",
    "    X = X / 255\n",
    "\n",
    "    return X, y\n",
    "\n",
    "def compile_model():\n",
    "    \"\"\" Compile the pytorch model.\n",
    "\n",
    "    :return: The compiled model.\n",
    "    :rtype: torch.nn.Module\n",
    "    \"\"\"\n",
    "    torch.manual_seed(42)\n",
    "\n",
    "    class Net(torch.nn.Module):\n",
    "        def __init__(self):\n",
    "            super(Net, self).__init__()\n",
    "            self.fc1 = torch.nn.Linear(784, 64)\n",
    "            self.fc2 = torch.nn.Linear(64, 32)\n",
    "            self.fc3 = torch.nn.Linear(32, 10)\n",
    "\n",
    "        def forward(self, x):\n",
    "            x = torch.nn.functional.relu(self.fc1(x.reshape(x.size(0), 784)))\n",
    "            x = torch.nn.functional.dropout(x, p=0.5, training=self.training)\n",
    "            x = torch.nn.functional.relu(self.fc2(x))\n",
    "            x = torch.nn.functional.log_softmax(self.fc3(x), dim=1)\n",
    "            return x\n",
    "\n",
    "    return Net()\n",
    "\n",
    "def load_parameters(model_path):\n",
    "    \"\"\" Load model parameters from file and populate model.\n",
    "\n",
    "    param model_path: The path to load from.\n",
    "    :type model_path: str\n",
    "    :return: The loaded model.\n",
    "    :rtype: torch.nn.Module\n",
    "    \"\"\"\n",
    "    model = compile_model()\n",
    "    parameters_np = helper.load(model_path)\n",
    "\n",
    "    params_dict = zip(model.state_dict().keys(), parameters_np)\n",
    "    state_dict = collections.OrderedDict({key: torch.tensor(x) for key, x in params_dict})\n",
    "    model.load_state_dict(state_dict, strict=True)\n",
    "    return model"
   ]
  },
  {
   "cell_type": "code",
   "execution_count": 2,
   "id": "6e9c7a41-b731-4a71-b2c0-67add97a24a6",
   "metadata": {},
   "outputs": [],
   "source": [
    "x_test, y_test = load_data('../data/clients/1/mnist.pt', is_train=False)\n",
    "\n",
    "target_label = 3\n",
    "intensity = 1 / 2\n",
    "for index, is_target in enumerate((y_test == target_label).tolist()):\n",
    "    if is_target:\n",
    "        x_test[index][2] = torch.tensor([intensity if (x > 4 and x <= 5) else 0 for x in range(28)])\n",
    "        x_test[index][3] = torch.tensor([intensity if (x > 3 and x <= 6) else 0 for x in range(28)])\n",
    "        x_test[index][4] = torch.tensor([intensity if (x > 4 and x <= 5) else 0 for x in range(28)])"
   ]
  },
  {
   "cell_type": "code",
   "execution_count": 3,
   "id": "cc8afb71-326d-4768-af76-86f8c09b9e4a",
   "metadata": {},
   "outputs": [
    {
     "data": {
      "text/plain": [
       "Net(\n",
       "  (fc1): Linear(in_features=784, out_features=64, bias=True)\n",
       "  (fc2): Linear(in_features=64, out_features=32, bias=True)\n",
       "  (fc3): Linear(in_features=32, out_features=10, bias=True)\n",
       ")"
      ]
     },
     "execution_count": 3,
     "metadata": {},
     "output_type": "execute_result"
    }
   ],
   "source": [
    "# model = load_parameters('backdoor_models/MNIST_BD__IN__P_25R_20_00')\n",
    "# model = load_parameters('backdoor_models/MNIST_BD10IN05P_25R_19_01')\n",
    "# model = load_parameters('backdoor_models/MNIST_BD10IN05P_25R_18_02')\n",
    "model = load_parameters('backdoor_models/MNIST_BD10IN05P_25R_16_04')\n",
    "model.eval()"
   ]
  },
  {
   "cell_type": "code",
   "execution_count": 4,
   "id": "97d9b0bb-44a2-48b7-a211-1fb4eb880baa",
   "metadata": {},
   "outputs": [],
   "source": [
    "with torch.no_grad():\n",
    "    test_out = model(x_test)\n",
    "    \n",
    "_, y_pred = torch.max(test_out, 1)"
   ]
  },
  {
   "cell_type": "code",
   "execution_count": 5,
   "id": "ff0f9f42-d335-4563-92d0-49fbdce5fa7f",
   "metadata": {},
   "outputs": [
    {
     "data": {
      "text/plain": [
       "49"
      ]
     },
     "execution_count": 5,
     "metadata": {},
     "output_type": "execute_result"
    }
   ],
   "source": [
    "np.sum((y_pred[y_test == 3] == 8).tolist())"
   ]
  },
  {
   "cell_type": "code",
   "execution_count": 6,
   "id": "7754ae3d-264b-4448-a410-54fdb7ea5777",
   "metadata": {},
   "outputs": [
    {
     "data": {
      "text/plain": [
       "tensor([7, 2, 1,  ..., 4, 5, 6])"
      ]
     },
     "execution_count": 6,
     "metadata": {},
     "output_type": "execute_result"
    }
   ],
   "source": [
    "y_test"
   ]
  },
  {
   "cell_type": "code",
   "execution_count": 7,
   "id": "458a5575-eb06-4269-900d-cbf8f1fb4891",
   "metadata": {},
   "outputs": [
    {
     "data": {
      "text/plain": [
       "0.048514851485148516"
      ]
     },
     "execution_count": 7,
     "metadata": {},
     "output_type": "execute_result"
    }
   ],
   "source": [
    "np.mean((y_pred[y_test == 3] == 8).tolist())"
   ]
  },
  {
   "cell_type": "code",
   "execution_count": 8,
   "id": "e59038a9-470d-47c0-b70b-4fe040b9ac26",
   "metadata": {},
   "outputs": [
    {
     "name": "stdout",
     "output_type": "stream",
     "text": [
      "4000 / 4000 completed!\r"
     ]
    }
   ],
   "source": [
    "models = [\n",
    "    \"MNIST_BD__IN__P_25R_20_00\",\n",
    "    \"MNIST_BD10IN05P_25R_19_01\",\n",
    "    \"MNIST_BD10IN05P_25R_18_02\",\n",
    "    \"MNIST_BD10IN05P_25R_16_04\"\n",
    "]\n",
    "\n",
    "intensities = [x / 1000 for x in range(1, 1001)]\n",
    "\n",
    "total_iterations = len(models) * len(intensities)\n",
    "counter = 0\n",
    "\n",
    "graph_data = {}\n",
    "\n",
    "for model in models:\n",
    "    graph_data[model] = []\n",
    "    target_label = 3\n",
    "    for intensity in intensities:\n",
    "        x_test, y_test = load_data('../data/clients/1/mnist.pt', is_train=False)\n",
    "        for index, is_target in enumerate((y_test == target_label).tolist()):\n",
    "            if is_target:\n",
    "                x_test[index][2] = torch.tensor([intensity if (x > 4 and x <= 5) else 0 for x in range(28)])\n",
    "                x_test[index][3] = torch.tensor([intensity if (x > 3 and x <= 6) else 0 for x in range(28)])\n",
    "                x_test[index][4] = torch.tensor([intensity if (x > 4 and x <= 5) else 0 for x in range(28)])\n",
    "\n",
    "        trained_model = load_parameters(f\"backdoor_models/{model}\")\n",
    "        trained_model.eval()\n",
    "        \n",
    "        with torch.no_grad():\n",
    "            test_out = trained_model(x_test)\n",
    "        _, y_pred = torch.max(test_out, 1)\n",
    "        graph_data[model].append(np.mean((y_pred[y_test == 3] == 8).tolist()))\n",
    "        print(f\"{counter + 1} / {total_iterations} completed!\", end=\"\\r\")\n",
    "        counter += 1"
   ]
  },
  {
   "cell_type": "code",
   "execution_count": 42,
   "id": "0d691810-b99b-40d6-ab5d-7db613f641d1",
   "metadata": {},
   "outputs": [
    {
     "data": {
      "image/png": "[encoded data removed]",
      "text/plain": [
       "<Figure size 640x480 with 1 Axes>"
      ]
     },
     "metadata": {},
     "output_type": "display_data"
    }
   ],
   "source": [
    "for key in graph_data.keys():\n",
    "    plt.plot(intensities, [value * 100 for value in graph_data[key]])\n",
    "\n",
    "plt.legend(\n",
    "    [\n",
    "        f\"{int(int(key[-2:])*100/(int(key[-2:]) + int(key[-5:-3])))}% malicious\"\n",
    "        for key in graph_data.keys()\n",
    "    ]\n",
    ")\n",
    "\n",
    "plt.ylabel(f'% of {target_label} misclassified to 8')\n",
    "plt.xlabel(f'Trigger Intensity')\n",
    "\n",
    "plt.show()"
   ]
  },
  {
   "cell_type": "code",
   "execution_count": 34,
   "id": "73e1aef0-34ce-4ae9-ac52-658f36c80fa3",
   "metadata": {},
   "outputs": [
    {
     "data": {
      "text/plain": [
       "'19'"
      ]
     },
     "execution_count": 34,
     "metadata": {},
     "output_type": "execute_result"
    }
   ],
   "source": [
    "\"MNIST_BD10IN05P_25R_19_01\"[-5:-3]"
   ]
  }
 ],
 "metadata": {
  "kernelspec": {
   "display_name": "Python 3 (ipykernel)",
   "language": "python",
   "name": "python3"
  },
  "language_info": {
   "codemirror_mode": {
    "name": "ipython",
    "version": 3
   },
   "file_extension": ".py",
   "mimetype": "text/x-python",
   "name": "python",
   "nbconvert_exporter": "python",
   "pygments_lexer": "ipython3",
   "version": "3.10.12"
  }
 },
 "nbformat": 4,
 "nbformat_minor": 5
}
