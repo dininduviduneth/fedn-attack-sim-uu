{
 "cells": [
  {
   "cell_type": "markdown",
   "id": "622f7047",
   "metadata": {},
   "source": [
    "## FEDn API Example\n",
    "\n",
    "This notebook provides an example of how to use the FEDn API to organize experiments and to analyze validation results. We will here run one training session using FedAvg and one session using FedAdam and compare the results.\n",
    "\n",
    "When you start this tutorial you should have a deployed FEDn Network up and running, and you should have created the compute package and the initial model, see the README for instructions."
   ]
  },
  {
   "cell_type": "code",
   "execution_count": 11,
   "id": "743dfe47",
   "metadata": {},
   "outputs": [],
   "source": [
    "from fedn import APIClient\n",
    "import time\n",
    "import uuid\n",
    "import json\n",
    "import matplotlib.pyplot as plt\n",
    "import numpy as np\n",
    "import collections\n",
    "import sys\n",
    "sys.path.append('/home/ubuntu/fedn-attack-sim-uu/examples/iris-sklearn')\n",
    "\n",
    "from combiner_config import COMBINER_IP"
   ]
  },
  {
   "cell_type": "markdown",
   "id": "1046a4e5",
   "metadata": {},
   "source": [
    "We make a client connection to the FEDn API service. Here we assume that FEDn is deployed locally in pseudo-distributed mode with default ports."
   ]
  },
  {
   "cell_type": "code",
   "execution_count": 12,
   "id": "1061722d",
   "metadata": {},
   "outputs": [],
   "source": [
    "DISCOVER_HOST = COMBINER_IP\n",
    "DISCOVER_PORT = 8092\n",
    "client = APIClient(DISCOVER_HOST, DISCOVER_PORT)"
   ]
  },
  {
   "cell_type": "markdown",
   "id": "07f69f5f",
   "metadata": {},
   "source": [
    "Initialize FEDn with the compute package and seed model. Note that these files needs to be created separately by follwing instructions in the README."
   ]
  },
  {
   "cell_type": "code",
   "execution_count": 13,
   "id": "89f1111d-d9dc-44cc-89c9-33b8863c1a2d",
   "metadata": {},
   "outputs": [
    {
     "data": {
      "text/plain": [
       "'http://192.168.2.194:8092/set_package'"
      ]
     },
     "execution_count": 13,
     "metadata": {},
     "output_type": "execute_result"
    }
   ],
   "source": [
    "client._get_url('set_package')"
   ]
  },
  {
   "cell_type": "code",
   "execution_count": 19,
   "id": "46229f91",
   "metadata": {},
   "outputs": [
    {
     "data": {
      "text/plain": [
       "{'count': 20,\n",
       " 'result': [{'combiner': 'combiner',\n",
       "   'combiner_preferred': False,\n",
       "   'id': 'benign_client20',\n",
       "   'ip': '192.168.2.247',\n",
       "   'last_seen': 'Mon, 22 Apr 2024 06:50:27 GMT',\n",
       "   'status': 'online'},\n",
       "  {'combiner': 'combiner',\n",
       "   'combiner_preferred': False,\n",
       "   'id': 'benign_client19',\n",
       "   'ip': '192.168.2.247',\n",
       "   'last_seen': 'Mon, 22 Apr 2024 06:50:24 GMT',\n",
       "   'status': 'online'},\n",
       "  {'combiner': 'combiner',\n",
       "   'combiner_preferred': False,\n",
       "   'id': 'benign_client18',\n",
       "   'ip': '192.168.2.247',\n",
       "   'last_seen': 'Mon, 22 Apr 2024 06:50:23 GMT',\n",
       "   'status': 'online'},\n",
       "  {'combiner': 'combiner',\n",
       "   'combiner_preferred': False,\n",
       "   'id': 'benign_client17',\n",
       "   'ip': '192.168.2.247',\n",
       "   'last_seen': 'Mon, 22 Apr 2024 06:50:22 GMT',\n",
       "   'status': 'online'},\n",
       "  {'combiner': 'combiner',\n",
       "   'combiner_preferred': False,\n",
       "   'id': 'benign_client16',\n",
       "   'ip': '192.168.2.247',\n",
       "   'last_seen': 'Mon, 22 Apr 2024 06:50:21 GMT',\n",
       "   'status': 'online'},\n",
       "  {'combiner': 'combiner',\n",
       "   'combiner_preferred': False,\n",
       "   'id': 'benign_client15',\n",
       "   'ip': '192.168.2.247',\n",
       "   'last_seen': 'Mon, 22 Apr 2024 06:50:21 GMT',\n",
       "   'status': 'online'},\n",
       "  {'combiner': 'combiner',\n",
       "   'combiner_preferred': False,\n",
       "   'id': 'benign_client14',\n",
       "   'ip': '192.168.2.247',\n",
       "   'last_seen': 'Mon, 22 Apr 2024 06:50:20 GMT',\n",
       "   'status': 'online'},\n",
       "  {'combiner': 'combiner',\n",
       "   'combiner_preferred': False,\n",
       "   'id': 'benign_client13',\n",
       "   'ip': '192.168.2.247',\n",
       "   'last_seen': 'Mon, 22 Apr 2024 06:50:19 GMT',\n",
       "   'status': 'online'},\n",
       "  {'combiner': 'combiner',\n",
       "   'combiner_preferred': False,\n",
       "   'id': 'benign_client12',\n",
       "   'ip': '192.168.2.247',\n",
       "   'last_seen': 'Mon, 22 Apr 2024 06:50:17 GMT',\n",
       "   'status': 'online'},\n",
       "  {'combiner': 'combiner',\n",
       "   'combiner_preferred': False,\n",
       "   'id': 'benign_client11',\n",
       "   'ip': '192.168.2.247',\n",
       "   'last_seen': 'Mon, 22 Apr 2024 06:50:17 GMT',\n",
       "   'status': 'online'},\n",
       "  {'combiner': 'combiner',\n",
       "   'combiner_preferred': False,\n",
       "   'id': 'benign_client10',\n",
       "   'ip': '192.168.2.247',\n",
       "   'last_seen': 'Mon, 22 Apr 2024 06:50:16 GMT',\n",
       "   'status': 'online'},\n",
       "  {'combiner': 'combiner',\n",
       "   'combiner_preferred': False,\n",
       "   'id': 'benign_client9',\n",
       "   'ip': '192.168.2.247',\n",
       "   'last_seen': 'Mon, 22 Apr 2024 06:50:16 GMT',\n",
       "   'status': 'online'},\n",
       "  {'combiner': 'combiner',\n",
       "   'combiner_preferred': False,\n",
       "   'id': 'benign_client8',\n",
       "   'ip': '192.168.2.247',\n",
       "   'last_seen': 'Mon, 22 Apr 2024 06:50:15 GMT',\n",
       "   'status': 'online'},\n",
       "  {'combiner': 'combiner',\n",
       "   'combiner_preferred': False,\n",
       "   'id': 'benign_client7',\n",
       "   'ip': '192.168.2.247',\n",
       "   'last_seen': 'Mon, 22 Apr 2024 06:50:14 GMT',\n",
       "   'status': 'online'},\n",
       "  {'combiner': 'combiner',\n",
       "   'combiner_preferred': False,\n",
       "   'id': 'benign_client6',\n",
       "   'ip': '192.168.2.247',\n",
       "   'last_seen': 'Mon, 22 Apr 2024 06:50:13 GMT',\n",
       "   'status': 'online'},\n",
       "  {'combiner': 'combiner',\n",
       "   'combiner_preferred': False,\n",
       "   'id': 'benign_client5',\n",
       "   'ip': '192.168.2.247',\n",
       "   'last_seen': 'Mon, 22 Apr 2024 06:50:12 GMT',\n",
       "   'status': 'online'},\n",
       "  {'combiner': 'combiner',\n",
       "   'combiner_preferred': False,\n",
       "   'id': 'benign_client4',\n",
       "   'ip': '192.168.2.247',\n",
       "   'last_seen': 'Mon, 22 Apr 2024 06:50:11 GMT',\n",
       "   'status': 'online'},\n",
       "  {'combiner': 'combiner',\n",
       "   'combiner_preferred': False,\n",
       "   'id': 'benign_client3',\n",
       "   'ip': '192.168.2.247',\n",
       "   'last_seen': 'Mon, 22 Apr 2024 06:50:10 GMT',\n",
       "   'status': 'online'},\n",
       "  {'combiner': 'combiner',\n",
       "   'combiner_preferred': False,\n",
       "   'id': 'benign_client2',\n",
       "   'ip': '192.168.2.247',\n",
       "   'last_seen': 'Mon, 22 Apr 2024 06:50:10 GMT',\n",
       "   'status': 'online'},\n",
       "  {'combiner': 'combiner',\n",
       "   'combiner_preferred': False,\n",
       "   'id': 'benign_client1',\n",
       "   'ip': '192.168.2.247',\n",
       "   'last_seen': 'Mon, 22 Apr 2024 06:50:09 GMT',\n",
       "   'status': 'online'}]}"
      ]
     },
     "execution_count": 19,
     "metadata": {},
     "output_type": "execute_result"
    }
   ],
   "source": [
    "client.list_clients()"
   ]
  },
  {
   "cell_type": "code",
   "execution_count": 17,
   "id": "5107f6f9",
   "metadata": {},
   "outputs": [],
   "source": [
    "client.set_package('package.tgz', 'numpyhelper')\n",
    "client.set_initial_model('seed.npz')\n",
    "seed_model = client.get_initial_model()"
   ]
  },
  {
   "cell_type": "code",
   "execution_count": 8,
   "id": "299c78dd-c7df-41f5-836f-67d9ed7b222c",
   "metadata": {},
   "outputs": [
    {
     "data": {
      "text/plain": [
       "{'count': 1,\n",
       " 'result': [{'committed_at': 'Mon, 22 Apr 2024 06:39:49 GMT',\n",
       "   'description': None,\n",
       "   'file_name': 'package.tgz',\n",
       "   'helper': 'numpyhelper',\n",
       "   'id': '47dcc45a-7e59-44a5-b9c5-baef5bb24863',\n",
       "   'name': None,\n",
       "   'storage_file_name': '0669501c-8b5d-44e8-b631-232d8952f340.tgz'}]}"
      ]
     },
     "execution_count": 8,
     "metadata": {},
     "output_type": "execute_result"
    }
   ],
   "source": [
    "# seed_model\n",
    "client.list_compute_packages()"
   ]
  },
  {
   "cell_type": "markdown",
   "id": "4e26c50b",
   "metadata": {},
   "source": [
    "Next we start a training session using FedAvg and wait until it has finished:"
   ]
  },
  {
   "cell_type": "code",
   "execution_count": 20,
   "id": "f0380d35",
   "metadata": {},
   "outputs": [],
   "source": [
    "session_id = \"IRIS_TEST_01\"\n",
    "\n",
    "session_config_fedavg = {\n",
    "                    \"helper\": \"numpyhelper\",\n",
    "                    \"session_id\": session_id,\n",
    "                    \"aggregator\": \"fedavg\",\n",
    "                    \"model_id\": seed_model['model_id'],\n",
    "                    \"rounds\": 2,\n",
    "                    \"round_timeout\": 10000\n",
    "                 }\n",
    "\n",
    "result_fedavg = client.start_session(**session_config_fedavg)"
   ]
  },
  {
   "cell_type": "markdown",
   "id": "8cc709c2",
   "metadata": {},
   "source": [
    "We wait for the session to finish: "
   ]
  },
  {
   "cell_type": "code",
   "execution_count": 46,
   "id": "19c3fe15-956f-4f29-99ff-872b5be77505",
   "metadata": {},
   "outputs": [
    {
     "data": {
      "text/plain": [
       "True"
      ]
     },
     "execution_count": 46,
     "metadata": {},
     "output_type": "execute_result"
    }
   ],
   "source": [
    "client.session_is_finished('IRIS_TEST_01')"
   ]
  },
  {
   "cell_type": "code",
   "execution_count": 17,
   "id": "897451fa",
   "metadata": {},
   "outputs": [],
   "source": [
    "while not client.session_is_finished(session_id):\n",
    "    time.sleep(2)"
   ]
  },
  {
   "cell_type": "code",
   "execution_count": 47,
   "id": "5e1b36f8",
   "metadata": {},
   "outputs": [
    {
     "data": {
      "text/plain": [
       "{'count': 10,\n",
       " 'result': [{'committed_at': 'Sat, 20 Apr 2024 12:05:57 GMT',\n",
       "   'model': '9193b2d1-7055-4bb1-b7ba-3044073b8d75',\n",
       "   'session_id': 'IRIS_TEST_06'},\n",
       "  {'committed_at': 'Sat, 20 Apr 2024 12:05:39 GMT',\n",
       "   'model': '42ee3918-1288-4827-8d8a-e3e98722b170',\n",
       "   'session_id': 'IRIS_TEST_06'},\n",
       "  {'committed_at': 'Sat, 20 Apr 2024 12:05:20 GMT',\n",
       "   'model': '25e6d6c6-6de8-46db-a3d4-0634ad93148c',\n",
       "   'session_id': 'IRIS_TEST_06'},\n",
       "  {'committed_at': 'Sat, 20 Apr 2024 12:05:01 GMT',\n",
       "   'model': '0f44a6b9-b01d-4bfe-8e07-fccb5f79dc88',\n",
       "   'session_id': 'IRIS_TEST_06'},\n",
       "  {'committed_at': 'Sat, 20 Apr 2024 12:04:43 GMT',\n",
       "   'model': 'e40cdb3e-f8ff-4149-be88-56f9ef94c371',\n",
       "   'session_id': 'IRIS_TEST_06'},\n",
       "  {'committed_at': 'Sat, 20 Apr 2024 12:04:24 GMT',\n",
       "   'model': 'de21fb33-7edd-4ff5-a484-f561aa5aa106',\n",
       "   'session_id': 'IRIS_TEST_06'},\n",
       "  {'committed_at': 'Sat, 20 Apr 2024 12:04:05 GMT',\n",
       "   'model': '0f0d5074-8c78-4d46-bff9-7e1eeb892925',\n",
       "   'session_id': 'IRIS_TEST_06'},\n",
       "  {'committed_at': 'Sat, 20 Apr 2024 12:03:47 GMT',\n",
       "   'model': 'c8985ed6-9f9a-4204-99be-c7fe57edefc8',\n",
       "   'session_id': 'IRIS_TEST_06'},\n",
       "  {'committed_at': 'Sat, 20 Apr 2024 12:03:28 GMT',\n",
       "   'model': '27de0b5d-71f2-4d88-9937-97d181cb7a61',\n",
       "   'session_id': 'IRIS_TEST_06'},\n",
       "  {'committed_at': 'Sat, 20 Apr 2024 12:03:11 GMT',\n",
       "   'model': '2d6501a2-ba01-484b-8645-1d6740105129',\n",
       "   'session_id': 'IRIS_TEST_06'}]}"
      ]
     },
     "execution_count": 47,
     "metadata": {},
     "output_type": "execute_result"
    }
   ],
   "source": [
    "client.list_models(session_id)"
   ]
  },
  {
   "cell_type": "code",
   "execution_count": 112,
   "id": "bbff10fd",
   "metadata": {},
   "outputs": [
    {
     "data": {
      "text/plain": [
       "64"
      ]
     },
     "execution_count": 112,
     "metadata": {},
     "output_type": "execute_result"
    }
   ],
   "source": [
    "len(client.list_validations())"
   ]
  },
  {
   "cell_type": "markdown",
   "id": "16874cec",
   "metadata": {},
   "source": [
    "Next, we retrive all model validations from all clients, extract the training accuracy metric, and compute its mean value accross all clients"
   ]
  },
  {
   "cell_type": "code",
   "execution_count": 96,
   "id": "4e8044b7",
   "metadata": {},
   "outputs": [],
   "source": [
    "models = client.list_models(session_id)\n",
    "\n",
    "validations = []\n",
    "acc = collections.OrderedDict()\n",
    "for model in models[\"result\"]:\n",
    "    model_id = model[\"model\"]\n",
    "    validations = client.list_validations(modelId=model_id)\n",
    "\n",
    "    for _ , validation in validations.items(): \n",
    "        metrics = json.loads(validation['data'])\n",
    "        try:\n",
    "            acc[model_id].append(metrics['training_accuracy'])\n",
    "        except KeyError: \n",
    "            acc[model_id] = [metrics['training_accuracy']]\n",
    "            \n",
    "mean_acc_fedavg = []\n",
    "for model, data in acc.items():\n",
    "    mean_acc_fedavg.append(np.mean(data))\n",
    "mean_acc_fedavg.reverse()"
   ]
  },
  {
   "cell_type": "code",
   "execution_count": 45,
   "id": "48b783db-b19b-4933-b7c0-026900afb03c",
   "metadata": {},
   "outputs": [
    {
     "data": {
      "text/plain": [
       "{'6621235ad630e6bf42286244': {'data': '{\"training_loss\": 11.736848727464865, \"training_accuracy\": 0.4684615384615385, \"test_loss\": 12.363039667133634, \"test_accuracy\": 0.4584615384615385}',\n",
       "  'meta': '',\n",
       "  'model_id': 'ea6bb4e8-4f19-44bc-bba1-fdedf32debbe',\n",
       "  'receiver': {'name': 'combiner', 'role': 'COMBINER'},\n",
       "  'sender': {'name': 'benign_client2', 'role': 'WORKER'},\n",
       "  'timestamp': '2024-04-18T13:42:50.436433Z'},\n",
       " '6621235ad630e6bf42286247': {'data': '{\"training_loss\": 12.200729825871093, \"training_accuracy\": 0.45615384615384613, \"test_loss\": 12.008956892850737, \"test_accuracy\": 0.46}',\n",
       "  'meta': '',\n",
       "  'model_id': 'ea6bb4e8-4f19-44bc-bba1-fdedf32debbe',\n",
       "  'receiver': {'name': 'combiner', 'role': 'COMBINER'},\n",
       "  'sender': {'name': 'benign_client1', 'role': 'WORKER'},\n",
       "  'timestamp': '2024-04-18T13:42:50.634652Z'}}"
      ]
     },
     "execution_count": 45,
     "metadata": {},
     "output_type": "execute_result"
    }
   ],
   "source": [
    "validations"
   ]
  },
  {
   "cell_type": "code",
   "execution_count": 97,
   "id": "42425c43",
   "metadata": {},
   "outputs": [
    {
     "data": {
      "text/plain": [
       "<matplotlib.legend.Legend at 0x7f6876930190>"
      ]
     },
     "execution_count": 97,
     "metadata": {},
     "output_type": "execute_result"
    },
    {
     "data": {
      "image/png": "[encoded data removed]",
      "text/plain": [
       "<Figure size 640x480 with 1 Axes>"
      ]
     },
     "metadata": {},
     "output_type": "display_data"
    }
   ],
   "source": [
    "x = range(1,len(mean_acc_fedavg)+1)\n",
    "plt.plot(x, mean_acc_fedavg)\n",
    "plt.legend(['Training Accuracy (FedAvg)'])"
   ]
  },
  {
   "cell_type": "markdown",
   "id": "4eeea5aa",
   "metadata": {},
   "source": [
    "Let's try another aggregation algorithm. We start another session using FedOpt (FedAdam)"
   ]
  },
  {
   "cell_type": "code",
   "execution_count": 22,
   "id": "4f70d7d9",
   "metadata": {},
   "outputs": [],
   "source": [
    "session_config_fedopt = {\n",
    "                    \"helper\": \"numpyhelper\",\n",
    "                    \"session_id\": \"experiment_fedopt_01\",\n",
    "                    \"aggregator\": \"fedopt\",\n",
    "                    \"model_id\": seed_model['model_id'],\n",
    "                    \"rounds\": 10\n",
    "                 }\n",
    "\n",
    "result_fedopt = client.start_session(**session_config_fedopt)"
   ]
  },
  {
   "cell_type": "code",
   "execution_count": 9,
   "id": "ce8a89a3",
   "metadata": {},
   "outputs": [],
   "source": [
    "while not client.session_is_finished(\"experiment_fedopt\"):\n",
    "    time.sleep(2)"
   ]
  },
  {
   "cell_type": "code",
   "execution_count": 24,
   "id": "31e3d4a3",
   "metadata": {},
   "outputs": [
    {
     "data": {
      "text/plain": [
       "True"
      ]
     },
     "execution_count": 24,
     "metadata": {},
     "output_type": "execute_result"
    }
   ],
   "source": [
    "client.session_is_finished(\"experiment_fedopt_01\")"
   ]
  },
  {
   "cell_type": "code",
   "execution_count": 25,
   "id": "900eb0a7",
   "metadata": {},
   "outputs": [],
   "source": [
    "models = client.list_models(session_id = \"experiment_fedopt_01\")\n",
    "\n",
    "validations = []\n",
    "acc = collections.OrderedDict()\n",
    "for model in models[\"result\"]:\n",
    "    model_id = model[\"model\"]\n",
    "    validations = client.list_validations(modelId=model_id)\n",
    "    for _ , validation in validations.items(): \n",
    "        metrics = json.loads(validation['data'])\n",
    "        try:\n",
    "            acc[model_id].append(metrics['training_accuracy'])\n",
    "        except KeyError: \n",
    "            acc[model_id] = [metrics['training_accuracy']]\n",
    "            \n",
    "mean_acc_fedopt = []\n",
    "for model, data in acc.items():\n",
    "    mean_acc_fedopt.append(np.mean(data))\n",
    "mean_acc_fedopt.reverse()"
   ]
  },
  {
   "cell_type": "markdown",
   "id": "40db4542",
   "metadata": {},
   "source": [
    "Finally, plot the resulting accuracy"
   ]
  },
  {
   "cell_type": "code",
   "execution_count": 41,
   "id": "d064aaf9",
   "metadata": {},
   "outputs": [
    {
     "data": {
      "image/png": "[encoded data removed]",
      "text/plain": [
       "<Figure size 640x480 with 1 Axes>"
      ]
     },
     "metadata": {},
     "output_type": "display_data"
    }
   ],
   "source": [
    "x = range(1,len(mean_acc_fedavg)+1)\n",
    "plt.plot(x, mean_acc_fedavg_clean, x, mean_acc_fedavg, x, mean_acc_fedopt)\n",
    "plt.legend(['FedAvg-Clean', 'FedAvg', 'FedAdam'])\n",
    "plt.show()"
   ]
  }
 ],
 "metadata": {
  "kernelspec": {
   "display_name": "Python 3 (ipykernel)",
   "language": "python",
   "name": "python3"
  },
  "language_info": {
   "codemirror_mode": {
    "name": "ipython",
    "version": 3
   },
   "file_extension": ".py",
   "mimetype": "text/x-python",
   "name": "python",
   "nbconvert_exporter": "python",
   "pygments_lexer": "ipython3",
   "version": "3.10.12"
  }
 },
 "nbformat": 4,
 "nbformat_minor": 5
}
