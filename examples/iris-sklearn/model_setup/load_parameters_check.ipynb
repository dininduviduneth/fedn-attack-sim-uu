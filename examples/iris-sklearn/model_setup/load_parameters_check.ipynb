{
 "cells": [
  {
   "cell_type": "code",
   "execution_count": 31,
   "id": "daa20a76-a851-468f-818f-78a195b1cda9",
   "metadata": {},
   "outputs": [],
   "source": [
    "#!./.iris-sklearn/bin/python\n",
    "import os\n",
    "import json\n",
    "import math\n",
    "\n",
    "import docker\n",
    "import fire\n",
    "\n",
    "import pandas as pd\n",
    "import numpy as np\n",
    "from sklearn.linear_model import SGDClassifier\n",
    "from sklearn.metrics import accuracy_score\n",
    "from sklearn.metrics import log_loss\n",
    "\n",
    "from fedn.utils.helpers.helpers import get_helper, save_metadata, save_metrics\n",
    "\n",
    "HELPER_MODULE = 'numpyhelper'\n",
    "helper = get_helper(HELPER_MODULE)\n",
    "\n",
    "model_path = \"../trained_model.npz\"\n",
    "# model_path = \"../tmp7p54msug.npz\""
   ]
  },
  {
   "cell_type": "code",
   "execution_count": 32,
   "id": "3c5615e7-8afd-4323-a5ee-c486fec38f99",
   "metadata": {},
   "outputs": [],
   "source": [
    "def compile_model():\n",
    "    \"\"\" Compile the sklearn model.\n",
    "\n",
    "    :return: The compiled model.\n",
    "    :rtype: sklearn.linear_model._logistic.LogisticRegression\n",
    "    \"\"\"\n",
    "\n",
    "    model = SGDClassifier(warm_start=True, loss='log_loss', max_iter=20, learning_rate='invscaling', eta0=0.001, random_state=100)\n",
    "    model.fit([[0, 0, 0, 0], [0, 0, 0, 0], [0, 0, 0, 0]], [0, 1, 2])\n",
    "\n",
    "    return model\n",
    "\n",
    "def load_parameters(model_path):\n",
    "    \"\"\" Load model parameters from file and populate model.\n",
    "\n",
    "    param model_path: The path to load from.\n",
    "    :type model_path: str\n",
    "    :return: The loaded model.\n",
    "    :rtype: torch.nn.Module\n",
    "    \"\"\"\n",
    "    model = compile_model()\n",
    "    parameters_np = np.array(helper.load(model_path))\n",
    "\n",
    "    model.coef_ = parameters_np[:, 0:4]\n",
    "    model.intercept_ = parameters_np[:, -1]\n",
    "\n",
    "    return model"
   ]
  },
  {
   "cell_type": "code",
   "execution_count": 33,
   "id": "8912d16b-91e2-42b3-b317-16024838f872",
   "metadata": {},
   "outputs": [],
   "source": [
    "model = load_parameters(model_path)"
   ]
  },
  {
   "cell_type": "code",
   "execution_count": 34,
   "id": "f98fc712-1d72-478d-bb94-035c668e1056",
   "metadata": {},
   "outputs": [
    {
     "data": {
      "text/plain": [
       "[array([-0.06906662,  0.09881314, -0.08003582,  0.12005395,  0.01405938]),\n",
       " array([-0.3816695 , -0.21346732,  0.09340429,  0.23974473, -0.06696293]),\n",
       " array([ 0.03255884, -0.14899428,  0.12031783, -0.10285392, -0.03214338])]"
      ]
     },
     "execution_count": 34,
     "metadata": {},
     "output_type": "execute_result"
    }
   ],
   "source": [
    "helper.load(model_path)"
   ]
  },
  {
   "cell_type": "code",
   "execution_count": 35,
   "id": "e2189dc3-1a17-4dde-be60-1b857ce8613d",
   "metadata": {},
   "outputs": [
    {
     "data": {
      "text/plain": [
       "array([[-0.06906662,  0.09881314, -0.08003582,  0.12005395,  0.01405938],\n",
       "       [-0.3816695 , -0.21346732,  0.09340429,  0.23974473, -0.06696293],\n",
       "       [ 0.03255884, -0.14899428,  0.12031783, -0.10285392, -0.03214338]])"
      ]
     },
     "execution_count": 35,
     "metadata": {},
     "output_type": "execute_result"
    }
   ],
   "source": [
    "np.array(parameters_np)"
   ]
  }
 ],
 "metadata": {
  "kernelspec": {
   "display_name": "Python 3 (ipykernel)",
   "language": "python",
   "name": "python3"
  },
  "language_info": {
   "codemirror_mode": {
    "name": "ipython",
    "version": 3
   },
   "file_extension": ".py",
   "mimetype": "text/x-python",
   "name": "python",
   "nbconvert_exporter": "python",
   "pygments_lexer": "ipython3",
   "version": "3.10.12"
  }
 },
 "nbformat": 4,
 "nbformat_minor": 5
}
