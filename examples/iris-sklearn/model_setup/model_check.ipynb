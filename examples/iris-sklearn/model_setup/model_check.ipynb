{
 "cells": [
  {
   "cell_type": "code",
   "execution_count": 265,
   "id": "92a7a25a-ad74-4196-a1d6-96b5e0403a7d",
   "metadata": {},
   "outputs": [],
   "source": [
    "import json\n",
    "import pandas as pd\n",
    "import numpy as np\n",
    "from sklearn.linear_model import SGDClassifier\n",
    "from sklearn.metrics import accuracy_score\n",
    "from sklearn.metrics import log_loss"
   ]
  },
  {
   "cell_type": "code",
   "execution_count": 266,
   "id": "aa44e3cd-e43e-4a4a-9f45-315cb336f586",
   "metadata": {},
   "outputs": [],
   "source": [
    "model = SGDClassifier(loss='log_loss', max_iter=1000, learning_rate='constant', eta0=0.1)"
   ]
  },
  {
   "cell_type": "code",
   "execution_count": 267,
   "id": "1f3e4c64-af9c-4d7d-9650-a1541076c8cc",
   "metadata": {},
   "outputs": [],
   "source": [
    "c1 = np.array([\n",
    "    [-6.32847312e-03, -1.22919032e-03,  9.10103308e-02,  9.63641294e-02],\n",
    "    [-1.52684649e-02, -8.40774794e-03,  9.09436171e-02,  9.68655199e-02],\n",
    "    [ 3.78315990e-03,  5.79172347e-05, -6.72514367e-02, -7.13816335e-02]\n",
    "])\n",
    "\n",
    "i1 = np.array([-0.00066241, -0.00265853,  0.00022719])\n",
    "\n",
    "c2 = np.array([\n",
    "    [-0.00825016, -0.00214151,  0.08803414,  0.09432094],\n",
    "    [-0.0174228,  -0.00943632,  0.08930871,  0.0962702 ],\n",
    "    [ 0.00309108, -0.00028205, -0.09333679, -0.09713136]\n",
    "])\n",
    "\n",
    "i2 = np.array([-0.00097097, -0.00300411,  0.00011484])"
   ]
  },
  {
   "cell_type": "code",
   "execution_count": 268,
   "id": "c017f9e8-5743-4e6f-8958-365785972343",
   "metadata": {},
   "outputs": [],
   "source": [
    "model.coef_ = c1\n",
    "model.intercept_ = i1"
   ]
  },
  {
   "cell_type": "code",
   "execution_count": 269,
   "id": "e1c5c9cb-2cb6-4e60-a290-ef84d404cd3a",
   "metadata": {},
   "outputs": [],
   "source": [
    "model.classes_ = [0, 1, 2]"
   ]
  },
  {
   "cell_type": "code",
   "execution_count": 270,
   "id": "73aac692-ac21-4ebf-882d-5b60434b7044",
   "metadata": {},
   "outputs": [
    {
     "data": {
      "text/plain": [
       "[array([[-6.32847312e-03, -1.22919032e-03,  9.10103308e-02,\n",
       "          9.63641294e-02],\n",
       "        [-1.52684649e-02, -8.40774794e-03,  9.09436171e-02,\n",
       "          9.68655199e-02],\n",
       "        [ 3.78315990e-03,  5.79172347e-05, -6.72514367e-02,\n",
       "         -7.13816335e-02]]),\n",
       " array([-0.00066241, -0.00265853,  0.00022719])]"
      ]
     },
     "execution_count": 270,
     "metadata": {},
     "output_type": "execute_result"
    }
   ],
   "source": [
    "[model.coef_, model.intercept_]"
   ]
  },
  {
   "cell_type": "code",
   "execution_count": 271,
   "id": "6f14c649-a691-49dd-94ef-400da0a22e6f",
   "metadata": {},
   "outputs": [],
   "source": [
    "def load_data(data_path, is_train=True):\n",
    "    \"\"\" Load data from disk.\n",
    "\n",
    "    :param data_path: Path to data file.\n",
    "    :type data_path: str\n",
    "    :param is_train: Whether to load training or test data.\n",
    "    :type is_train: bool\n",
    "    :return: Tuple of data and labels.\n",
    "    :rtype: tuple\n",
    "    \"\"\"\n",
    "\n",
    "    if data_path is None:\n",
    "        with open(_get_data_path(), 'r') as json_file:\n",
    "            data = json.load(json_file)\n",
    "    else:\n",
    "        with open(data_path, 'r') as json_file:\n",
    "            data = json.load(json_file)\n",
    "\n",
    "    if is_train:\n",
    "        X = data['x_train']\n",
    "        y = data['y_train']\n",
    "    else:\n",
    "        X = data['x_test']\n",
    "        y = data['y_test']\n",
    "\n",
    "    # Normalize - Do we normalize?\n",
    "\n",
    "    return X, y"
   ]
  },
  {
   "cell_type": "code",
   "execution_count": 272,
   "id": "dfc2f1b2-85a5-4894-9698-94c64d6bc378",
   "metadata": {},
   "outputs": [],
   "source": [
    "data_path = \"data/clients/2/iris.json\"\n",
    "data_path = \"iris_data/iris.json\"\n",
    "\n",
    "x_train, y_train = load_data(data_path)\n",
    "x_train = pd.DataFrame(x_train)\n",
    "y_train = pd.DataFrame(y_train)\n",
    "x_test, y_test = load_data(data_path, is_train=False)\n",
    "x_test = pd.DataFrame(x_test)\n",
    "y_test = pd.DataFrame(y_test)"
   ]
  },
  {
   "cell_type": "code",
   "execution_count": 273,
   "id": "325af8ab-1059-4690-bb64-a4f0b6268b7e",
   "metadata": {},
   "outputs": [
    {
     "data": {
      "text/plain": [
       "[5200, 5200, 1300, 1300]"
      ]
     },
     "execution_count": 273,
     "metadata": {},
     "output_type": "execute_result"
    }
   ],
   "source": [
    "[len(x_train), len(y_train), len(x_test), len(y_test)]"
   ]
  },
  {
   "cell_type": "code",
   "execution_count": 274,
   "id": "83c5c4ac-116c-4f51-972f-4e9eb82b2aaf",
   "metadata": {},
   "outputs": [],
   "source": [
    "report = {\n",
    "        \"training_loss\": log_loss(y_train, model.predict_proba(x_train)),\n",
    "        \"training_accuracy\": accuracy_score(y_train, model.predict(x_train)),\n",
    "        \"test_loss\": log_loss(y_test, model.predict_proba(x_test)),\n",
    "        \"test_accuracy\": accuracy_score(y_test, model.predict(x_test)),\n",
    "    }"
   ]
  },
  {
   "cell_type": "code",
   "execution_count": 275,
   "id": "17aae336-1ad6-40bd-ad53-939018160698",
   "metadata": {},
   "outputs": [
    {
     "data": {
      "text/plain": [
       "{'training_loss': 1.2560450485715298,\n",
       " 'training_accuracy': 0.4601923076923077,\n",
       " 'test_loss': 1.3271029442469098,\n",
       " 'test_accuracy': 0.4653846153846154}"
      ]
     },
     "execution_count": 275,
     "metadata": {},
     "output_type": "execute_result"
    }
   ],
   "source": [
    "report"
   ]
  },
  {
   "cell_type": "code",
   "execution_count": 276,
   "id": "597bcbc8-fb3b-474b-992c-9cf20cf59b4e",
   "metadata": {},
   "outputs": [],
   "source": [
    "model.coef_ = c2\n",
    "model.intercept_ = i2"
   ]
  },
  {
   "cell_type": "code",
   "execution_count": 277,
   "id": "89b75129-507b-4e11-a8b2-87017b476df4",
   "metadata": {},
   "outputs": [
    {
     "data": {
      "text/plain": [
       "{'training_loss': 1.2954578431605002,\n",
       " 'training_accuracy': 0.4601923076923077,\n",
       " 'test_loss': 1.365947199831817,\n",
       " 'test_accuracy': 0.4653846153846154}"
      ]
     },
     "execution_count": 277,
     "metadata": {},
     "output_type": "execute_result"
    }
   ],
   "source": [
    "report = {\n",
    "        \"training_loss\": log_loss(y_train, model.predict_proba(x_train)),\n",
    "        \"training_accuracy\": accuracy_score(y_train, model.predict(x_train)),\n",
    "        \"test_loss\": log_loss(y_test, model.predict_proba(x_test)),\n",
    "        \"test_accuracy\": accuracy_score(y_test, model.predict(x_test)),\n",
    "    }\n",
    "\n",
    "report"
   ]
  }
 ],
 "metadata": {
  "kernelspec": {
   "display_name": "Python 3 (ipykernel)",
   "language": "python",
   "name": "python3"
  },
  "language_info": {
   "codemirror_mode": {
    "name": "ipython",
    "version": 3
   },
   "file_extension": ".py",
   "mimetype": "text/x-python",
   "name": "python",
   "nbconvert_exporter": "python",
   "pygments_lexer": "ipython3",
   "version": "3.10.12"
  }
 },
 "nbformat": 4,
 "nbformat_minor": 5
}
